{
 "cells": [
  {
   "cell_type": "markdown",
   "id": "d271d74d",
   "metadata": {},
   "source": [
    "# LLM4WCA Test\n",
    "We evaluate the efficacy of OpenAI's GPT-5 model in generating worst-case constraints for Java programs in the [WARP-benchmark](https://github.com/dannkoh/warp-benchmark). We will ask the model for worst-case constraints of size *n* (2,4,8,16,30) and evaluate the semantic and syntactic accuracy of the generated constraints using **Z3**."
   ]
  },
  {
   "cell_type": "code",
   "execution_count": 1,
   "id": "691d987c",
   "metadata": {},
   "outputs": [],
   "source": [
    "import json\n",
    "import os\n",
    "import re\n",
    "from pathlib import Path\n",
    "from typing import Any, Optional\n",
    "from pprint import pprint\n",
    "\n",
    "import openai\n",
    "from dotenv import load_dotenv\n",
    "\n",
    "load_dotenv()\n",
    "\n",
    "client = openai.OpenAI(api_key=os.getenv(\"OPENAI_KEY\"))\n",
    "\n",
    "SIZES = {2,4,8,16,30}"
   ]
  },
  {
   "cell_type": "code",
   "execution_count": 2,
   "id": "89e96e67",
   "metadata": {},
   "outputs": [],
   "source": [
    "# Load Java Programs\n",
    "java_programs = {}\n",
    "for file in Path(\"../../spf-wca/src/examples/custom/\").glob(\"*.java\"):\n",
    "    with file.open() as f:\n",
    "        java_programs[file.name.removesuffix(\".java\")] = {\"program\": f.read()}\n",
    "\n",
    "\n",
    "pattern_re = re.compile(r\"^(?:custom\\.)?([^.]+)_([0-9]+)\\.smt2$\")\n",
    "for file in Path(\"../../spf-wca/custom/\").rglob(\"*.smt2\"):\n",
    "    match = pattern_re.match(file.name)\n",
    "    if not match:\n",
    "        continue\n",
    "    problem, n_str = match.groups()\n",
    "    try:\n",
    "        n = int(n_str)\n",
    "    except ValueError:\n",
    "        continue\n",
    "    if n not in SIZES:\n",
    "        continue\n",
    "    with file.open() as f:\n",
    "        smt_lines = [line.strip() for line in f if line.strip()]\n",
    "        constants = \"\\n\".join(line for line in smt_lines if line.startswith(\"(declare-const\"))\n",
    "        assertions = \"\\n\".join(line for line in smt_lines if line.startswith(\"(assert\"))\n",
    "    if problem not in java_programs:\n",
    "        raise ValueError\n",
    "    java_programs[problem][n] = {\"constants\": constants, \"assertions\": assertions}\n",
    "\n",
    "for prog in java_programs:\n",
    "    for n in SIZES:\n",
    "        if n not in java_programs[prog]:\n",
    "            java_programs[prog][n] = {\"constants\": None, \"assertions\": None}"
   ]
  },
  {
   "cell_type": "code",
   "execution_count": null,
   "id": "a51c506d",
   "metadata": {},
   "outputs": [],
   "source": [
    "def format_prompt(program, n):\n",
    "    return f\"\"\"```java\n",
    "{program}\n",
    "```\n",
    "Given the Java program above, determine its worst-case time complexity for input size n={n}.\n",
    "\n",
    "Express the corresponding constraint in SMT-LIB v2 format using only the standard QF_LIA (Quantifier-Free Linear Integer Arithmetic) theory.\n",
    "- Use only integer types (`Int`) and standard SMT-LIB v2 arithmetic functions, including division and modulo.\n",
    "- Do not use bitvectors, custom functions, or any non-standard theories or types.\n",
    "\n",
    "At the end, provide the final SMT-LIB v2 constraint, starting with 'Answer:' on a new line.\n",
    "\"\"\""
   ]
  },
  {
   "cell_type": "code",
   "execution_count": null,
   "id": "d0a05ac1",
   "metadata": {},
   "outputs": [],
   "source": [
    "model = \"gpt-5-2025-08-07\"\n",
    "endpoint = \"/v1/chat/completions\"\n",
    "\n",
    "for prog_name, data in java_programs.items():\n",
    "    batch = []\n",
    "    for n in SIZES:\n",
    "        prompt = format_prompt(data[\"program\"], n)\n",
    "        batch.append(\n",
    "            {\n",
    "                \"custom_id\":str(n),\n",
    "                \"method\": \"POST\",\n",
    "                \"url\": \"/v1/chat/completions\",\n",
    "                \"body\": {\"model\": model, \"messages\": [{\"role\": \"user\", \"content\": prompt}]},\n",
    "            }\n",
    "        )\n",
    "    with open(f\"batch/{prog_name}-batch.jsonl\", \"w\") as f:\n",
    "        for item in batch:\n",
    "            json.dump(item, f)\n",
    "            f.write(\"\\n\")\n",
    "\n",
    "\n",
    "    client.files.create(\n",
    "        file=open(f\"batch/{prog_name}-batch.jsonl\", \"rb\"),\n",
    "        purpose=\"batch\"\n",
    "    )\n"
   ]
  },
  {
   "cell_type": "code",
   "execution_count": null,
   "id": "ea6fcb6b",
   "metadata": {},
   "outputs": [],
   "source": [
    "for file in client.files.list():\n",
    "    if file.purpose == \"batch\":\n",
    "        client.batches.create(\n",
    "            completion_window=\"24h\",\n",
    "            endpoint=endpoint,\n",
    "            input_file_id=file.id\n",
    "        )"
   ]
  },
  {
   "cell_type": "code",
   "execution_count": null,
   "id": "02bfc706",
   "metadata": {},
   "outputs": [],
   "source": [
    "for batch in client.batches.list():\n",
    "    if batch.created_at >= 1756138709:\n",
    "        print(batch)"
   ]
  },
  {
   "cell_type": "code",
   "execution_count": 3,
   "id": "f5f8c03b",
   "metadata": {},
   "outputs": [],
   "source": [
    "import json\n",
    "\n",
    "for batches in client.batches.list():\n",
    "    if batches.created_at >= 1756138709:\n",
    "        result = client.files.content(batches.output_file_id).content.decode(\"utf-8\")\n",
    "        prog_name = client.files.retrieve(batches.input_file_id).filename.removesuffix(\"-batch.jsonl\")\n",
    "        # Parse JSONL back into java_programs for each n in \"response\" key\n",
    "        result = [json.loads(line) for line in result.strip().splitlines() if line.strip()]\n",
    "        for item in result:\n",
    "            java_programs[prog_name][int(item[\"custom_id\"])][\"response\"] = item[\"response\"][\"body\"][\"choices\"][0][\"message\"][\"content\"].strip()"
   ]
  },
  {
   "cell_type": "code",
   "execution_count": 11,
   "id": "fb3c6ae1",
   "metadata": {},
   "outputs": [
    {
     "name": "stdout",
     "output_type": "stream",
     "text": [
      "dict_keys(['RampUp', 'ComplexStateMachineParser', 'QuickSort', 'NaiveFibonacci', 'Collatz', 'KnapsackSolver', 'MergeSort', 'BinaryTreeSearch', 'MazeSolver', 'SortedListInsert', 'CaseFlipper', 'Dijkstra', 'TowerOfHanoi', 'BinarySearch', 'ArrayTwister', 'BubbleSort', 'BinarySearchTreeHeight', 'SubarraySumFinder', 'GreedyStepper', 'DizzyRamp'])\n"
     ]
    }
   ],
   "source": [
    "print(java_programs.keys())\n",
    "\n",
    "with open(\"results/java_programs.dict\", \"w\") as f:\n",
    "    json.dump(java_programs, f, indent=2)\n",
    "\n",
    "for key in java_programs.keys():\n",
    "    # create an empty .ipynb file for each Java program\n",
    "    open(f\"results/{key}.ipynb\", \"w\").close()\n"
   ]
  }
 ],
 "metadata": {
  "kernelspec": {
   "display_name": ".venv",
   "language": "python",
   "name": "python3"
  },
  "language_info": {
   "codemirror_mode": {
    "name": "ipython",
    "version": 3
   },
   "file_extension": ".py",
   "mimetype": "text/x-python",
   "name": "python",
   "nbconvert_exporter": "python",
   "pygments_lexer": "ipython3",
   "version": "3.11.4"
  }
 },
 "nbformat": 4,
 "nbformat_minor": 5
}
