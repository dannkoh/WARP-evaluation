{
 "cells": [
  {
   "cell_type": "code",
   "execution_count": 1,
   "id": "a5e4580a",
   "metadata": {},
   "outputs": [],
   "source": [
    "import json\n",
    "from pprint import pprint\n",
    "import sys\n",
    "from pathlib import Path\n",
    "\n",
    "sys.path.append(str(Path('..').resolve()))\n",
    "import utils\n",
    "\n",
    "with open(\"java_programs.dict\", \"r\") as f:\n",
    "    java_programs = json.load(f)\n",
    "\n",
    "SIZES = {2,4,8,16,30}\n",
    "PROGRAM_NAME = \"KnapsackSolver\""
   ]
  },
  {
   "cell_type": "code",
   "execution_count": 2,
   "id": "e838502d",
   "metadata": {},
   "outputs": [
    {
     "name": "stdout",
     "output_type": "stream",
     "text": [
      "{'assertions': '(assert (and (and (and (and (and (and (and (and (and (and (and '\n",
      "               '(and (and (and (not ( = c 0))  ( <=  w2 c)) (not ( = ( -  c '\n",
      "               'w2) 0)))  ( <=  w1 ( -  c w2))) (not ( = ( -  ( -  c w2) w1) '\n",
      "               '0)))  ( >  w0 ( -  ( -  c w2) w1)))  ( >  w0 ( -  c w2)))  ( '\n",
      "               '>  v1 0))  ( <=  w1 c)) (not ( = ( -  c w1) 0)))  ( >  w0 ( -  '\n",
      "               'c w1)))  ( <=  w0 c))  ( >  v0 0))  ( >  v1 v0))  ( >  ( +  v1 '\n",
      "               'v2) v1)))',\n",
      " 'constants': '(declare-const c Int)\\n'\n",
      "              '(declare-const w0 Int)\\n'\n",
      "              '(declare-const v0 Int)\\n'\n",
      "              '(declare-const w1 Int)\\n'\n",
      "              '(declare-const v1 Int)\\n'\n",
      "              '(declare-const w2 Int)\\n'\n",
      "              '(declare-const v2 Int)',\n",
      " 'response': '- Worst-case time complexity: O(2^n). This happens when at every '\n",
      "             'level the item can fit in the current capacity so the algorithm '\n",
      "             'explores both the “include” and “exclude” branches, yielding a '\n",
      "             'full binary recursion tree. The recursion depth is n, so '\n",
      "             'auxiliary space is O(n).\\n'\n",
      "             '\\n'\n",
      "             'Answer:\\n'\n",
      "             '(set-logic QF_LIA)\\n'\n",
      "             '(declare-fun w0 () Int)\\n'\n",
      "             '(declare-fun w1 () Int)\\n'\n",
      "             '(declare-fun v0 () Int)\\n'\n",
      "             '(declare-fun v1 () Int)\\n'\n",
      "             '(declare-fun c () Int)\\n'\n",
      "             '; Worst-case branching conditions for n = 2:\\n'\n",
      "             '; Top-level (n=2) must branch:\\n'\n",
      "             '(assert (> c 0))\\n'\n",
      "             '(assert (<= w1 c))\\n'\n",
      "             '; Include-branch call (n=1, capacity = c - w1) must also '\n",
      "             'branch:\\n'\n",
      "             '(assert (> (- c w1) 0))\\n'\n",
      "             '(assert (<= w0 (- c w1)))\\n'\n",
      "             '; Exclude-branch call (n=1, capacity = c) must also branch:\\n'\n",
      "             '(assert (<= w0 c))'}\n"
     ]
    }
   ],
   "source": [
    "pprint(java_programs[PROGRAM_NAME][\"2\"])"
   ]
  },
  {
   "cell_type": "code",
   "execution_count": 3,
   "id": "843271ba",
   "metadata": {},
   "outputs": [
    {
     "data": {
      "text/plain": [
       "{'result': False, 'reason': 'A does not imply B'}"
      ]
     },
     "execution_count": 3,
     "metadata": {},
     "output_type": "execute_result"
    }
   ],
   "source": [
    "utils.check_logical_equivalence(\n",
    "    original_assertions=java_programs[PROGRAM_NAME][\"2\"][\"assertions\"],\n",
    "    generated_assertions=java_programs[PROGRAM_NAME][\"2\"][\"response\"].split(\"(declare-fun c () Int)\\n\")[1],\n",
    "    constants=java_programs[PROGRAM_NAME][\"2\"][\"constants\"]\n",
    ")"
   ]
  },
  {
   "cell_type": "code",
   "execution_count": 4,
   "id": "67b2917e",
   "metadata": {},
   "outputs": [
    {
     "name": "stdout",
     "output_type": "stream",
     "text": [
      "{'assertions': '(assert (and (and (and (and (and (and (and (and (and (and (and '\n",
      "               '(and (and (and (not ( = c 0))  ( <=  w2 c)) (not ( = ( -  c '\n",
      "               'w2) 0)))  ( <=  w1 ( -  c w2))) (not ( = ( -  ( -  c w2) w1) '\n",
      "               '0)))  ( >  w0 ( -  ( -  c w2) w1)))  ( >  w0 ( -  c w2)))  ( '\n",
      "               '>  v1 0))  ( <=  w1 c)) (not ( = ( -  c w1) 0)))  ( >  w0 ( -  '\n",
      "               'c w1)))  ( <=  w0 c))  ( >  v0 0))  ( >  v1 v0))  ( >  ( +  v1 '\n",
      "               'v2) v1)))',\n",
      " 'constants': '(declare-const c Int)\\n'\n",
      "              '(declare-const w0 Int)\\n'\n",
      "              '(declare-const v0 Int)\\n'\n",
      "              '(declare-const w1 Int)\\n'\n",
      "              '(declare-const v1 Int)\\n'\n",
      "              '(declare-const w2 Int)\\n'\n",
      "              '(declare-const v2 Int)',\n",
      " 'response': '- Worst-case time complexity: O(2^n) recursive calls '\n",
      "             '(specifically 2^(n+1) - 1 calls), with O(n) stack space.\\n'\n",
      "             '- Intuition: In the worst case (e.g., all weights are small '\n",
      "             'enough so the “weights[n-1] > capacity” check is always false), '\n",
      "             'the function explores both include and exclude branches at every '\n",
      "             'level.\\n'\n",
      "             '\\n'\n",
      "             'SMT2 constraint for n = 4 that forces the worst-case branching '\n",
      "             '(i.e., the weight-capacity check is always false along all '\n",
      "             'recursive branches):\\n'\n",
      "             '- Ensure all weights are positive.\\n'\n",
      "             '- Ensure capacity is at least the sum of all weights so that '\n",
      "             'every item can still fit regardless of previous choices.\\n'\n",
      "             '\\n'\n",
      "             'Answer:\\n'\n",
      "             '(set-logic QF_LIA)\\n'\n",
      "             '(declare-const w0 Int)\\n'\n",
      "             '(declare-const w1 Int)\\n'\n",
      "             '(declare-const w2 Int)\\n'\n",
      "             '(declare-const w3 Int)\\n'\n",
      "             '(declare-const v0 Int)\\n'\n",
      "             '(declare-const v1 Int)\\n'\n",
      "             '(declare-const v2 Int)\\n'\n",
      "             '(declare-const v3 Int)\\n'\n",
      "             '(declare-const c Int)\\n'\n",
      "             '(assert (and\\n'\n",
      "             '  (>= w0 1) (>= w1 1) (>= w2 1) (>= w3 1)\\n'\n",
      "             '  (> c 0)\\n'\n",
      "             '  (>= c (+ w0 w1 w2 w3))\\n'\n",
      "             '))\\n'\n",
      "             '(check-sat)\\n'\n",
      "             '(get-model)'}\n"
     ]
    }
   ],
   "source": [
    "pprint(java_programs[PROGRAM_NAME][\"4\"])"
   ]
  },
  {
   "cell_type": "code",
   "execution_count": 5,
   "id": "5aa0c817",
   "metadata": {},
   "outputs": [
    {
     "data": {
      "text/plain": [
       "{'result': False, 'reason': 'A does not imply B'}"
      ]
     },
     "execution_count": 5,
     "metadata": {},
     "output_type": "execute_result"
    }
   ],
   "source": [
    "utils.check_logical_equivalence_v2(\n",
    "    original_assertions=java_programs[PROGRAM_NAME][\"4\"][\"assertions\"],\n",
    "    generated_assertions=java_programs[PROGRAM_NAME][\"4\"][\"response\"].split(\"(declare-const c Int)\\n\")[1].split(\"(check-sat)\\n\")[0],\n",
    "    original_constants=java_programs[PROGRAM_NAME][\"4\"][\"constants\"],\n",
    "    generated_constants=java_programs[PROGRAM_NAME][\"4\"][\"response\"].split(\"Answer:\\n\")[1].split(\"(assert (and\\n\")[0]\n",
    ")\n"
   ]
  },
  {
   "cell_type": "code",
   "execution_count": 6,
   "id": "a22b783a",
   "metadata": {},
   "outputs": [
    {
     "name": "stdout",
     "output_type": "stream",
     "text": [
      "{'assertions': '(assert (and (and (and (and (and (and (and (and (and (and (and '\n",
      "               '(and (and (and (not ( = c 0))  ( <=  w2 c)) (not ( = ( -  c '\n",
      "               'w2) 0)))  ( <=  w1 ( -  c w2))) (not ( = ( -  ( -  c w2) w1) '\n",
      "               '0)))  ( >  w0 ( -  ( -  c w2) w1)))  ( >  w0 ( -  c w2)))  ( '\n",
      "               '>  v1 0))  ( <=  w1 c)) (not ( = ( -  c w1) 0)))  ( >  w0 ( -  '\n",
      "               'c w1)))  ( <=  w0 c))  ( >  v0 0))  ( >  v1 v0))  ( >  ( +  v1 '\n",
      "               'v2) v1)))',\n",
      " 'constants': '(declare-const c Int)\\n'\n",
      "              '(declare-const w0 Int)\\n'\n",
      "              '(declare-const v0 Int)\\n'\n",
      "              '(declare-const w1 Int)\\n'\n",
      "              '(declare-const v1 Int)\\n'\n",
      "              '(declare-const w2 Int)\\n'\n",
      "              '(declare-const v2 Int)',\n",
      " 'response': '- Worst-case time complexity: O(2^n). At each item the solver '\n",
      "             'explores two branches (include/exclude) in the worst case (when '\n",
      "             'the item’s weight is not greater than the current capacity), '\n",
      "             'leading to a full binary recursion tree without memoization. '\n",
      "             'Space complexity is O(n) due to recursion depth.\\n'\n",
      "             '\\n'\n",
      "             '- SMT2 constraint for n = 8 that guarantees the worst-case '\n",
      "             'branching (i.e., both include/exclude branches are always '\n",
      "             'feasible): make all weights positive and set capacity at least '\n",
      "             'the sum of all weights so that at every recursive call '\n",
      "             'weights[i] <= current capacity regardless of previous choices.\\n'\n",
      "             '\\n'\n",
      "             'Answer:\\n'\n",
      "             '(set-logic QF_LIA)\\n'\n",
      "             '\\n'\n",
      "             '(declare-fun w0 () Int)\\n'\n",
      "             '(declare-fun w1 () Int)\\n'\n",
      "             '(declare-fun w2 () Int)\\n'\n",
      "             '(declare-fun w3 () Int)\\n'\n",
      "             '(declare-fun w4 () Int)\\n'\n",
      "             '(declare-fun w5 () Int)\\n'\n",
      "             '(declare-fun w6 () Int)\\n'\n",
      "             '(declare-fun w7 () Int)\\n'\n",
      "             '\\n'\n",
      "             '(declare-fun v0 () Int)\\n'\n",
      "             '(declare-fun v1 () Int)\\n'\n",
      "             '(declare-fun v2 () Int)\\n'\n",
      "             '(declare-fun v3 () Int)\\n'\n",
      "             '(declare-fun v4 () Int)\\n'\n",
      "             '(declare-fun v5 () Int)\\n'\n",
      "             '(declare-fun v6 () Int)\\n'\n",
      "             '(declare-fun v7 () Int)\\n'\n",
      "             '\\n'\n",
      "             '(declare-fun c () Int)\\n'\n",
      "             '\\n'\n",
      "             '(assert\\n'\n",
      "             '  (and\\n'\n",
      "             '    (>= w0 1) (>= w1 1) (>= w2 1) (>= w3 1)\\n'\n",
      "             '    (>= w4 1) (>= w5 1) (>= w6 1) (>= w7 1)\\n'\n",
      "             '    (>= v0 0) (>= v1 0) (>= v2 0) (>= v3 0)\\n'\n",
      "             '    (>= v4 0) (>= v5 0) (>= v6 0) (>= v7 0)\\n'\n",
      "             '    (>= c (+ w0 w1 w2 w3 w4 w5 w6 w7))\\n'\n",
      "             '  )\\n'\n",
      "             ')\\n'\n",
      "             '\\n'\n",
      "             '(check-sat)\\n'\n",
      "             '(get-model)'}\n"
     ]
    }
   ],
   "source": [
    "pprint(java_programs[PROGRAM_NAME][\"8\"])"
   ]
  },
  {
   "cell_type": "code",
   "execution_count": 7,
   "id": "21deb161",
   "metadata": {},
   "outputs": [
    {
     "data": {
      "text/plain": [
       "{'result': False, 'reason': 'A does not imply B'}"
      ]
     },
     "execution_count": 7,
     "metadata": {},
     "output_type": "execute_result"
    }
   ],
   "source": [
    "utils.check_logical_equivalence_v2(\n",
    "    original_assertions=java_programs[PROGRAM_NAME][\"8\"][\"assertions\"],\n",
    "    generated_assertions=java_programs[PROGRAM_NAME][\"8\"][\"response\"].split(\"(declare-fun c () Int)\\n\")[1].split(\"(check-sat)\\n\")[0],\n",
    "    original_constants=java_programs[PROGRAM_NAME][\"8\"][\"constants\"],\n",
    "    generated_constants=java_programs[PROGRAM_NAME][\"8\"][\"response\"].split(\"Answer:\\n\")[1].split(\"(assert\\n\")[0]\n",
    ")"
   ]
  },
  {
   "cell_type": "code",
   "execution_count": 8,
   "id": "660426c6",
   "metadata": {},
   "outputs": [
    {
     "name": "stdout",
     "output_type": "stream",
     "text": [
      "{'assertions': '(assert (and (and (and (and (and (and (and (and (and (and (and '\n",
      "               '(and (and (and (not ( = c 0))  ( <=  w2 c)) (not ( = ( -  c '\n",
      "               'w2) 0)))  ( <=  w1 ( -  c w2))) (not ( = ( -  ( -  c w2) w1) '\n",
      "               '0)))  ( >  w0 ( -  ( -  c w2) w1)))  ( >  w0 ( -  c w2)))  ( '\n",
      "               '>  v1 0))  ( <=  w1 c)) (not ( = ( -  c w1) 0)))  ( >  w0 ( -  '\n",
      "               'c w1)))  ( <=  w0 c))  ( >  v0 0))  ( >  v1 v0))  ( >  ( +  v1 '\n",
      "               'v2) v1)))',\n",
      " 'constants': '(declare-const c Int)\\n'\n",
      "              '(declare-const w0 Int)\\n'\n",
      "              '(declare-const v0 Int)\\n'\n",
      "              '(declare-const w1 Int)\\n'\n",
      "              '(declare-const v1 Int)\\n'\n",
      "              '(declare-const w2 Int)\\n'\n",
      "              '(declare-const v2 Int)',\n",
      " 'response': '- Worst-case time complexity: O(2^n)\\n'\n",
      "             '- Auxiliary space complexity (recursion): O(n)\\n'\n",
      "             '\\n'\n",
      "             'Reason: The recursive algorithm explores both “include” and '\n",
      "             '“exclude” branches whenever weights[i] <= current capacity. In '\n",
      "             'the worst case, this happens at every level, yielding a full '\n",
      "             'binary recursion tree with 2^n leaves.\\n'\n",
      "             '\\n'\n",
      "             'A simple sufficient SMT2 constraint to force the worst-case '\n",
      "             '(both branches taken at every level) is to make the capacity at '\n",
      "             'least the sum of all weights. For n = 16, using the same '\n",
      "             'symbolic names as in your code (w0..w15, v0..v15, c), one such '\n",
      "             'SMT2 instance is:\\n'\n",
      "             '\\n'\n",
      "             'Answer:\\n'\n",
      "             '(set-logic QF_LIA)\\n'\n",
      "             '(declare-const c Int)\\n'\n",
      "             '(declare-const w0 Int)\\n'\n",
      "             '(declare-const w1 Int)\\n'\n",
      "             '(declare-const w2 Int)\\n'\n",
      "             '(declare-const w3 Int)\\n'\n",
      "             '(declare-const w4 Int)\\n'\n",
      "             '(declare-const w5 Int)\\n'\n",
      "             '(declare-const w6 Int)\\n'\n",
      "             '(declare-const w7 Int)\\n'\n",
      "             '(declare-const w8 Int)\\n'\n",
      "             '(declare-const w9 Int)\\n'\n",
      "             '(declare-const w10 Int)\\n'\n",
      "             '(declare-const w11 Int)\\n'\n",
      "             '(declare-const w12 Int)\\n'\n",
      "             '(declare-const w13 Int)\\n'\n",
      "             '(declare-const w14 Int)\\n'\n",
      "             '(declare-const w15 Int)\\n'\n",
      "             '(declare-const v0 Int)\\n'\n",
      "             '(declare-const v1 Int)\\n'\n",
      "             '(declare-const v2 Int)\\n'\n",
      "             '(declare-const v3 Int)\\n'\n",
      "             '(declare-const v4 Int)\\n'\n",
      "             '(declare-const v5 Int)\\n'\n",
      "             '(declare-const v6 Int)\\n'\n",
      "             '(declare-const v7 Int)\\n'\n",
      "             '(declare-const v8 Int)\\n'\n",
      "             '(declare-const v9 Int)\\n'\n",
      "             '(declare-const v10 Int)\\n'\n",
      "             '(declare-const v11 Int)\\n'\n",
      "             '(declare-const v12 Int)\\n'\n",
      "             '(declare-const v13 Int)\\n'\n",
      "             '(declare-const v14 Int)\\n'\n",
      "             '(declare-const v15 Int)\\n'\n",
      "             '(assert (and\\n'\n",
      "             '  (>= c 0)\\n'\n",
      "             '  (>= w0 1) (>= w1 1) (>= w2 1) (>= w3 1)\\n'\n",
      "             '  (>= w4 1) (>= w5 1) (>= w6 1) (>= w7 1)\\n'\n",
      "             '  (>= w8 1) (>= w9 1) (>= w10 1) (>= w11 1)\\n'\n",
      "             '  (>= w12 1) (>= w13 1) (>= w14 1) (>= w15 1)\\n'\n",
      "             '  (>= c (+ w0 w1 w2 w3 w4 w5 w6 w7 w8 w9 w10 w11 w12 w13 w14 '\n",
      "             'w15))\\n'\n",
      "             '))'}\n"
     ]
    }
   ],
   "source": [
    "pprint(java_programs[PROGRAM_NAME][\"16\"])"
   ]
  },
  {
   "cell_type": "code",
   "execution_count": 9,
   "id": "6e6a8fe1",
   "metadata": {},
   "outputs": [
    {
     "data": {
      "text/plain": [
       "{'result': False, 'reason': 'A does not imply B'}"
      ]
     },
     "execution_count": 9,
     "metadata": {},
     "output_type": "execute_result"
    }
   ],
   "source": [
    "utils.check_logical_equivalence_v2(\n",
    "    original_assertions=java_programs[PROGRAM_NAME][\"16\"][\"assertions\"],\n",
    "    generated_assertions=java_programs[PROGRAM_NAME][\"16\"][\"response\"].split(\"(declare-const v15 Int)\\n\")[1],\n",
    "    original_constants=java_programs[PROGRAM_NAME][\"16\"][\"constants\"],\n",
    "    generated_constants=java_programs[PROGRAM_NAME][\"16\"][\"response\"].split(\"Answer:\\n\")[1].split(\"(assert (and\\n\")[0]\n",
    ")"
   ]
  },
  {
   "cell_type": "code",
   "execution_count": 10,
   "id": "178ae900",
   "metadata": {},
   "outputs": [
    {
     "name": "stdout",
     "output_type": "stream",
     "text": [
      "{'assertions': '(assert (and (and (and (and (and (and (and (and (and (and (and '\n",
      "               '(and (and (and (not ( = c 0))  ( <=  w2 c)) (not ( = ( -  c '\n",
      "               'w2) 0)))  ( <=  w1 ( -  c w2))) (not ( = ( -  ( -  c w2) w1) '\n",
      "               '0)))  ( >  w0 ( -  ( -  c w2) w1)))  ( >  w0 ( -  c w2)))  ( '\n",
      "               '>  v1 0))  ( <=  w1 c)) (not ( = ( -  c w1) 0)))  ( >  w0 ( -  '\n",
      "               'c w1)))  ( <=  w0 c))  ( >  v0 0))  ( >  v1 v0))  ( >  ( +  v1 '\n",
      "               'v2) v1)))',\n",
      " 'constants': '(declare-const c Int)\\n'\n",
      "              '(declare-const w0 Int)\\n'\n",
      "              '(declare-const v0 Int)\\n'\n",
      "              '(declare-const w1 Int)\\n'\n",
      "              '(declare-const v1 Int)\\n'\n",
      "              '(declare-const w2 Int)\\n'\n",
      "              '(declare-const v2 Int)',\n",
      " 'response': 'Worst‑case time complexity: O(2^n)\\n'\n",
      "             '\\n'\n",
      "             'Reason: The recursive 0/1 knapsack without memoization branches '\n",
      "             'into “include” and “exclude” when weights[n-1] ≤ capacity, '\n",
      "             'yielding T(n) = 2·T(n−1) + O(1) ⇒ O(2^n). A worst-case input is '\n",
      "             'when this condition holds at every level, for example all '\n",
      "             'weights are 0 and capacity ≥ 0, which forces full binary '\n",
      "             'branching at each step.\\n'\n",
      "             '\\n'\n",
      "             'Answer:\\n'\n",
      "             '(set-logic QF_LIA)\\n'\n",
      "             '; capacity\\n'\n",
      "             '(declare-fun c () Int)\\n'\n",
      "             '\\n'\n",
      "             '; weights w0..w29\\n'\n",
      "             '(declare-fun w0 () Int)\\n'\n",
      "             '(declare-fun w1 () Int)\\n'\n",
      "             '(declare-fun w2 () Int)\\n'\n",
      "             '(declare-fun w3 () Int)\\n'\n",
      "             '(declare-fun w4 () Int)\\n'\n",
      "             '(declare-fun w5 () Int)\\n'\n",
      "             '(declare-fun w6 () Int)\\n'\n",
      "             '(declare-fun w7 () Int)\\n'\n",
      "             '(declare-fun w8 () Int)\\n'\n",
      "             '(declare-fun w9 () Int)\\n'\n",
      "             '(declare-fun w10 () Int)\\n'\n",
      "             '(declare-fun w11 () Int)\\n'\n",
      "             '(declare-fun w12 () Int)\\n'\n",
      "             '(declare-fun w13 () Int)\\n'\n",
      "             '(declare-fun w14 () Int)\\n'\n",
      "             '(declare-fun w15 () Int)\\n'\n",
      "             '(declare-fun w16 () Int)\\n'\n",
      "             '(declare-fun w17 () Int)\\n'\n",
      "             '(declare-fun w18 () Int)\\n'\n",
      "             '(declare-fun w19 () Int)\\n'\n",
      "             '(declare-fun w20 () Int)\\n'\n",
      "             '(declare-fun w21 () Int)\\n'\n",
      "             '(declare-fun w22 () Int)\\n'\n",
      "             '(declare-fun w23 () Int)\\n'\n",
      "             '(declare-fun w24 () Int)\\n'\n",
      "             '(declare-fun w25 () Int)\\n'\n",
      "             '(declare-fun w26 () Int)\\n'\n",
      "             '(declare-fun w27 () Int)\\n'\n",
      "             '(declare-fun w28 () Int)\\n'\n",
      "             '(declare-fun w29 () Int)\\n'\n",
      "             '\\n'\n",
      "             '; values v0..v29 (do not affect branching; left unconstrained)\\n'\n",
      "             '(declare-fun v0 () Int)\\n'\n",
      "             '(declare-fun v1 () Int)\\n'\n",
      "             '(declare-fun v2 () Int)\\n'\n",
      "             '(declare-fun v3 () Int)\\n'\n",
      "             '(declare-fun v4 () Int)\\n'\n",
      "             '(declare-fun v5 () Int)\\n'\n",
      "             '(declare-fun v6 () Int)\\n'\n",
      "             '(declare-fun v7 () Int)\\n'\n",
      "             '(declare-fun v8 () Int)\\n'\n",
      "             '(declare-fun v9 () Int)\\n'\n",
      "             '(declare-fun v10 () Int)\\n'\n",
      "             '(declare-fun v11 () Int)\\n'\n",
      "             '(declare-fun v12 () Int)\\n'\n",
      "             '(declare-fun v13 () Int)\\n'\n",
      "             '(declare-fun v14 () Int)\\n'\n",
      "             '(declare-fun v15 () Int)\\n'\n",
      "             '(declare-fun v16 () Int)\\n'\n",
      "             '(declare-fun v17 () Int)\\n'\n",
      "             '(declare-fun v18 () Int)\\n'\n",
      "             '(declare-fun v19 () Int)\\n'\n",
      "             '(declare-fun v20 () Int)\\n'\n",
      "             '(declare-fun v21 () Int)\\n'\n",
      "             '(declare-fun v22 () Int)\\n'\n",
      "             '(declare-fun v23 () Int)\\n'\n",
      "             '(declare-fun v24 () Int)\\n'\n",
      "             '(declare-fun v25 () Int)\\n'\n",
      "             '(declare-fun v26 () Int)\\n'\n",
      "             '(declare-fun v27 () Int)\\n'\n",
      "             '(declare-fun v28 () Int)\\n'\n",
      "             '(declare-fun v29 () Int)\\n'\n",
      "             '\\n'\n",
      "             '; Worst-case branching constraints: all weights are 0 and '\n",
      "             'capacity >= 0\\n'\n",
      "             '(assert (>= c 0))\\n'\n",
      "             '(assert (= w0 0))\\n'\n",
      "             '(assert (= w1 0))\\n'\n",
      "             '(assert (= w2 0))\\n'\n",
      "             '(assert (= w3 0))\\n'\n",
      "             '(assert (= w4 0))\\n'\n",
      "             '(assert (= w5 0))\\n'\n",
      "             '(assert (= w6 0))\\n'\n",
      "             '(assert (= w7 0))\\n'\n",
      "             '(assert (= w8 0))\\n'\n",
      "             '(assert (= w9 0))\\n'\n",
      "             '(assert (= w10 0))\\n'\n",
      "             '(assert (= w11 0))\\n'\n",
      "             '(assert (= w12 0))\\n'\n",
      "             '(assert (= w13 0))\\n'\n",
      "             '(assert (= w14 0))\\n'\n",
      "             '(assert (= w15 0))\\n'\n",
      "             '(assert (= w16 0))\\n'\n",
      "             '(assert (= w17 0))\\n'\n",
      "             '(assert (= w18 0))\\n'\n",
      "             '(assert (= w19 0))\\n'\n",
      "             '(assert (= w20 0))\\n'\n",
      "             '(assert (= w21 0))\\n'\n",
      "             '(assert (= w22 0))\\n'\n",
      "             '(assert (= w23 0))\\n'\n",
      "             '(assert (= w24 0))\\n'\n",
      "             '(assert (= w25 0))\\n'\n",
      "             '(assert (= w26 0))\\n'\n",
      "             '(assert (= w27 0))\\n'\n",
      "             '(assert (= w28 0))\\n'\n",
      "             '(assert (= w29 0))\\n'\n",
      "             '\\n'\n",
      "             '(check-sat)\\n'\n",
      "             '(get-model)'}\n"
     ]
    }
   ],
   "source": [
    "pprint(java_programs[PROGRAM_NAME][\"30\"])"
   ]
  },
  {
   "cell_type": "code",
   "execution_count": 11,
   "id": "9a3224aa",
   "metadata": {},
   "outputs": [
    {
     "data": {
      "text/plain": [
       "{'result': False, 'reason': 'A does not imply B'}"
      ]
     },
     "execution_count": 11,
     "metadata": {},
     "output_type": "execute_result"
    }
   ],
   "source": [
    "utils.check_logical_equivalence_v2(\n",
    "    original_assertions=java_programs[PROGRAM_NAME][\"30\"][\"assertions\"],\n",
    "    generated_assertions=java_programs[PROGRAM_NAME][\"30\"][\"response\"].split(\"(declare-fun v29 () Int)\\n\")[1].split(\"(check-sat)\\n\")[0],\n",
    "    original_constants=java_programs[PROGRAM_NAME][\"30\"][\"constants\"],\n",
    "    generated_constants=java_programs[PROGRAM_NAME][\"30\"][\"response\"].split(\"Answer:\\n\")[1].split(\"; Worst-case branching constraints\")[0]\n",
    ")"
   ]
  }
 ],
 "metadata": {
  "kernelspec": {
   "display_name": ".venv",
   "language": "python",
   "name": "python3"
  },
  "language_info": {
   "codemirror_mode": {
    "name": "ipython",
    "version": 3
   },
   "file_extension": ".py",
   "mimetype": "text/x-python",
   "name": "python",
   "nbconvert_exporter": "python",
   "pygments_lexer": "ipython3",
   "version": "3.11.4"
  }
 },
 "nbformat": 4,
 "nbformat_minor": 5
}
