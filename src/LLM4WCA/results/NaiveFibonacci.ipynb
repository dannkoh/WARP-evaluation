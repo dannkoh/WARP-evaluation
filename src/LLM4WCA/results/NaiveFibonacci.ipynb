{
 "cells": [
  {
   "cell_type": "code",
   "execution_count": 1,
   "id": "f0a1e2a1",
   "metadata": {},
   "outputs": [],
   "source": [
    "import json\n",
    "from pprint import pprint\n",
    "import sys\n",
    "from pathlib import Path\n",
    "\n",
    "sys.path.append(str(Path('..').resolve()))\n",
    "import utils\n",
    "\n",
    "with open(\"java_programs.dict\", \"r\") as f:\n",
    "    java_programs = json.load(f)\n",
    "\n",
    "SIZES = {2,4,8,16,30}\n",
    "PROGRAM_NAME = \"NaiveFibonacci\""
   ]
  },
  {
   "cell_type": "code",
   "execution_count": 2,
   "id": "42c29d31",
   "metadata": {},
   "outputs": [
    {
     "name": "stdout",
     "output_type": "stream",
     "text": [
      "{'assertions': '(assert (and (and (and (and (and (and (and (and (and (and  ( '\n",
      "               '>=  in 0)  ( <=  in 10))  ( >  in 1))  ( >  ( -  in 1) 1))  ( '\n",
      "               '>  ( -  ( -  in 1) 1) 1))  ( >  ( -  ( -  ( -  in 1) 1) 1) '\n",
      "               '1))  ( >  ( -  ( -  ( -  ( -  in 1) 1) 1) 1) 1))  ( >  ( -  ( '\n",
      "               '-  ( -  ( -  ( -  in 1) 1) 1) 1) 1) 1))  ( >  ( -  ( -  ( -  ( '\n",
      "               '-  ( -  ( -  in 1) 1) 1) 1) 1) 1) 1))  ( >  ( -  ( -  ( -  ( '\n",
      "               '-  ( -  ( -  ( -  in 1) 1) 1) 1) 1) 1) 1) 1))  ( >  ( -  ( -  '\n",
      "               '( -  ( -  ( -  ( -  ( -  ( -  in 1) 1) 1) 1) 1) 1) 1) 1) 1)))',\n",
      " 'constants': '(declare-const in Int)',\n",
      " 'response': '- Worst-case time complexity (as a function of n): Θ(φ^n) ≈ '\n",
      "             'O(2^n), due to the naive recursive recurrence T(n) = T(n−1) + '\n",
      "             'T(n−2) + O(1).\\n'\n",
      "             '- Note: In this specific program, n is constrained to 0 ≤ n ≤ '\n",
      "             '10, so the practical worst-case runtime is bounded by a '\n",
      "             'constant. Asymptotically, however, it remains exponential.\\n'\n",
      "             '\\n'\n",
      "             'Answer:\\n'\n",
      "             '(set-logic QF_LIA)\\n'\n",
      "             '(declare-fun in () Int)\\n'\n",
      "             '(assert (= in 2))\\n'\n",
      "             '(assert (>= in 0))\\n'\n",
      "             '(assert (<= in 10))\\n'\n",
      "             '(check-sat)\\n'\n",
      "             '(get-model)'}\n"
     ]
    }
   ],
   "source": [
    "pprint(java_programs[PROGRAM_NAME][\"2\"])"
   ]
  },
  {
   "cell_type": "code",
   "execution_count": 3,
   "id": "6388e49e",
   "metadata": {},
   "outputs": [
    {
     "data": {
      "text/plain": [
       "{'result': False, 'reason': 'A does not imply B'}"
      ]
     },
     "execution_count": 3,
     "metadata": {},
     "output_type": "execute_result"
    }
   ],
   "source": [
    "utils.check_logical_equivalence(\n",
    "    original_assertions=java_programs[PROGRAM_NAME][\"2\"][\"assertions\"],\n",
    "    generated_assertions=java_programs[PROGRAM_NAME][\"2\"][\"response\"].split(\"(declare-fun in () Int)\")[1].split(\"(check-sat)\\n\")[0],\n",
    "    constants=java_programs[PROGRAM_NAME][\"2\"][\"constants\"]\n",
    ")"
   ]
  },
  {
   "cell_type": "code",
   "execution_count": 4,
   "id": "81069672",
   "metadata": {},
   "outputs": [
    {
     "name": "stdout",
     "output_type": "stream",
     "text": [
      "{'assertions': '(assert (and (and (and (and (and (and (and (and (and (and  ( '\n",
      "               '>=  in 0)  ( <=  in 10))  ( >  in 1))  ( >  ( -  in 1) 1))  ( '\n",
      "               '>  ( -  ( -  in 1) 1) 1))  ( >  ( -  ( -  ( -  in 1) 1) 1) '\n",
      "               '1))  ( >  ( -  ( -  ( -  ( -  in 1) 1) 1) 1) 1))  ( >  ( -  ( '\n",
      "               '-  ( -  ( -  ( -  in 1) 1) 1) 1) 1) 1))  ( >  ( -  ( -  ( -  ( '\n",
      "               '-  ( -  ( -  in 1) 1) 1) 1) 1) 1) 1))  ( >  ( -  ( -  ( -  ( '\n",
      "               '-  ( -  ( -  ( -  in 1) 1) 1) 1) 1) 1) 1) 1))  ( >  ( -  ( -  '\n",
      "               '( -  ( -  ( -  ( -  ( -  ( -  in 1) 1) 1) 1) 1) 1) 1) 1) 1)))',\n",
      " 'constants': '(declare-const in Int)',\n",
      " 'response': '- Worst-case time complexity:\\n'\n",
      "             '  - The naive recursive Fibonacci algorithm runs in exponential '\n",
      "             'time: Θ(φ^n) ≈ O(1.618^n) (often upper-bounded as O(2^n)).\\n'\n",
      "             '  - Note: In this specific program, n is constrained to 0 ≤ n ≤ '\n",
      "             '10, so the runtime is bounded by a constant (max at n=10). '\n",
      "             'Asymptotically (without the cap), it’s exponential.\\n'\n",
      "             '\\n'\n",
      "             'Answer:\\n'\n",
      "             '(set-logic QF_LIA)\\n'\n",
      "             '(declare-fun in () Int)\\n'\n",
      "             '(assert (and (>= in 0) (<= in 10))) ; path condition to reach '\n",
      "             'fib(n)\\n'\n",
      "             '(assert (= in 4))                    ; input size n = 4\\n'\n",
      "             '(check-sat)\\n'\n",
      "             '(get-model)'}\n"
     ]
    }
   ],
   "source": [
    "pprint(java_programs[PROGRAM_NAME][\"4\"])"
   ]
  },
  {
   "cell_type": "code",
   "execution_count": 5,
   "id": "8ee20125",
   "metadata": {},
   "outputs": [
    {
     "data": {
      "text/plain": [
       "{'result': False, 'reason': 'A does not imply B'}"
      ]
     },
     "execution_count": 5,
     "metadata": {},
     "output_type": "execute_result"
    }
   ],
   "source": [
    "utils.check_logical_equivalence(\n",
    "    original_assertions=java_programs[PROGRAM_NAME][\"4\"][\"assertions\"],\n",
    "    generated_assertions=java_programs[PROGRAM_NAME][\"4\"][\"response\"].split(\"(declare-fun in () Int)\\n\")[1].split(\"(check-sat)\\n\")[0],\n",
    "    constants=java_programs[PROGRAM_NAME][\"4\"][\"constants\"]\n",
    ")"
   ]
  },
  {
   "cell_type": "code",
   "execution_count": 6,
   "id": "9911da0f",
   "metadata": {},
   "outputs": [
    {
     "name": "stdout",
     "output_type": "stream",
     "text": [
      "{'assertions': '(assert (and (and (and (and (and (and (and (and (and (and  ( '\n",
      "               '>=  in 0)  ( <=  in 10))  ( >  in 1))  ( >  ( -  in 1) 1))  ( '\n",
      "               '>  ( -  ( -  in 1) 1) 1))  ( >  ( -  ( -  ( -  in 1) 1) 1) '\n",
      "               '1))  ( >  ( -  ( -  ( -  ( -  in 1) 1) 1) 1) 1))  ( >  ( -  ( '\n",
      "               '-  ( -  ( -  ( -  in 1) 1) 1) 1) 1) 1))  ( >  ( -  ( -  ( -  ( '\n",
      "               '-  ( -  ( -  in 1) 1) 1) 1) 1) 1) 1))  ( >  ( -  ( -  ( -  ( '\n",
      "               '-  ( -  ( -  ( -  in 1) 1) 1) 1) 1) 1) 1) 1))  ( >  ( -  ( -  '\n",
      "               '( -  ( -  ( -  ( -  ( -  ( -  in 1) 1) 1) 1) 1) 1) 1) 1) 1)))',\n",
      " 'constants': '(declare-const in Int)',\n",
      " 'response': '- Worst-case time complexity:\\n'\n",
      "             '  - Asymptotically (for general n): exponential, Θ(φ^n) ≈ '\n",
      "             'O(2^n), due to the naive recursive definition T(n) = T(n−1) + '\n",
      "             'T(n−2) + O(1).\\n'\n",
      "             '  - Space complexity: O(n) recursion depth.\\n'\n",
      "             '  - For this specific program (n constrained to 0..10), the '\n",
      "             'runtime is bounded by a constant, but the algorithm itself '\n",
      "             'remains exponential in n.\\n'\n",
      "             '\\n'\n",
      "             '- SMT2 constraint for input n = 8 (symbolic variable name is '\n",
      "             '\"in\"):\\n'\n",
      "             '  - Must satisfy the guard: 0 ≤ in ≤ 10\\n'\n",
      "             '  - And the concrete input: in = 8\\n'\n",
      "             '\\n'\n",
      "             'Answer:\\n'\n",
      "             '(set-logic QF_LIA)\\n'\n",
      "             '(declare-fun in () Int)\\n'\n",
      "             '(assert (>= in 0))\\n'\n",
      "             '(assert (<= in 10))\\n'\n",
      "             '(assert (= in 8))\\n'\n",
      "             '(check-sat)\\n'\n",
      "             '(get-model)'}\n"
     ]
    }
   ],
   "source": [
    "pprint(java_programs[PROGRAM_NAME][\"8\"])"
   ]
  },
  {
   "cell_type": "code",
   "execution_count": 7,
   "id": "1cd7514d",
   "metadata": {},
   "outputs": [
    {
     "data": {
      "text/plain": [
       "{'result': False, 'reason': 'A does not imply B'}"
      ]
     },
     "execution_count": 7,
     "metadata": {},
     "output_type": "execute_result"
    }
   ],
   "source": [
    "utils.check_logical_equivalence(\n",
    "    original_assertions=java_programs[PROGRAM_NAME][\"8\"][\"assertions\"],\n",
    "    generated_assertions=java_programs[PROGRAM_NAME][\"8\"][\"response\"].split(\"(declare-fun in () Int)\\n\")[1].split(\"(check-sat)\\n\")[0],\n",
    "    constants=java_programs[PROGRAM_NAME][\"8\"][\"constants\"]\n",
    ")"
   ]
  },
  {
   "cell_type": "code",
   "execution_count": 8,
   "id": "1769a31e",
   "metadata": {},
   "outputs": [
    {
     "name": "stdout",
     "output_type": "stream",
     "text": [
      "{'assertions': '(assert (and (and (and (and (and (and (and (and (and (and  ( '\n",
      "               '>=  in 0)  ( <=  in 10))  ( >  in 1))  ( >  ( -  in 1) 1))  ( '\n",
      "               '>  ( -  ( -  in 1) 1) 1))  ( >  ( -  ( -  ( -  in 1) 1) 1) '\n",
      "               '1))  ( >  ( -  ( -  ( -  ( -  in 1) 1) 1) 1) 1))  ( >  ( -  ( '\n",
      "               '-  ( -  ( -  ( -  in 1) 1) 1) 1) 1) 1))  ( >  ( -  ( -  ( -  ( '\n",
      "               '-  ( -  ( -  in 1) 1) 1) 1) 1) 1) 1))  ( >  ( -  ( -  ( -  ( '\n",
      "               '-  ( -  ( -  ( -  in 1) 1) 1) 1) 1) 1) 1) 1))  ( >  ( -  ( -  '\n",
      "               '( -  ( -  ( -  ( -  ( -  ( -  in 1) 1) 1) 1) 1) 1) 1) 1) 1)))',\n",
      " 'constants': '(declare-const in Int)',\n",
      " 'response': '- Worst-case time complexity: Exponential. Specifically, the '\n",
      "             'naive recursive Fibonacci has T(n) = T(n−1) + T(n−2) + O(1), '\n",
      "             'yielding Θ(φ^n) ≈ O(2^n). Although this program constrains n to '\n",
      "             '[0,10], the algorithm itself is exponential.\\n'\n",
      "             '\\n'\n",
      "             '- For input n = 16, the program will take the early return '\n",
      "             'branch (since 16 > 10). The corresponding SMT2 path constraint '\n",
      "             'is that n = 16 and (n < 0 ∨ n > 10) holds.\\n'\n",
      "             '\\n'\n",
      "             'Answer:\\n'\n",
      "             '(set-logic QF_LIA)\\n'\n",
      "             '(declare-const n Int)\\n'\n",
      "             '(assert (= n 16))\\n'\n",
      "             '(assert (or (< n 0) (> n 10)))\\n'\n",
      "             '(check-sat)\\n'\n",
      "             '(get-model)'}\n"
     ]
    }
   ],
   "source": [
    "pprint(java_programs[PROGRAM_NAME][\"16\"])"
   ]
  },
  {
   "cell_type": "code",
   "execution_count": 9,
   "id": "39bd8152",
   "metadata": {},
   "outputs": [
    {
     "name": "stdout",
     "output_type": "stream",
     "text": [
      "{'assertions': '(assert (and (and (and (and (and (and (and (and (and (and  ( '\n",
      "               '>=  in 0)  ( <=  in 10))  ( >  in 1))  ( >  ( -  in 1) 1))  ( '\n",
      "               '>  ( -  ( -  in 1) 1) 1))  ( >  ( -  ( -  ( -  in 1) 1) 1) '\n",
      "               '1))  ( >  ( -  ( -  ( -  ( -  in 1) 1) 1) 1) 1))  ( >  ( -  ( '\n",
      "               '-  ( -  ( -  ( -  in 1) 1) 1) 1) 1) 1))  ( >  ( -  ( -  ( -  ( '\n",
      "               '-  ( -  ( -  in 1) 1) 1) 1) 1) 1) 1))  ( >  ( -  ( -  ( -  ( '\n",
      "               '-  ( -  ( -  ( -  in 1) 1) 1) 1) 1) 1) 1) 1))  ( >  ( -  ( -  '\n",
      "               '( -  ( -  ( -  ( -  ( -  ( -  in 1) 1) 1) 1) 1) 1) 1) 1) 1)))',\n",
      " 'constants': '(declare-const in Int)',\n",
      " 'response': '- Naive Fibonacci recursion has exponential time: T(n) = '\n",
      "             'Theta(phi^n) ≈ O(2^n).\\n'\n",
      "             '- For this specific program, n is constrained to 0 ≤ n ≤ 10. '\n",
      "             'Therefore, as a whole program over its allowed inputs, the '\n",
      "             'worst-case runtime is bounded by a constant (n = 10), even '\n",
      "             'though within that domain it still grows exponentially with n.\\n'\n",
      "             '\\n'\n",
      "             'Because the program constrains n to [0,10], the SMT2 path '\n",
      "             'condition for “execute fib” together with n = 30 is '\n",
      "             'unsatisfiable. A corresponding SMT2 script is:\\n'\n",
      "             '\\n'\n",
      "             'Answer:\\n'\n",
      "             '(set-logic QF_LIA)\\n'\n",
      "             '(declare-fun in () Int)\\n'\n",
      "             '(assert (and (<= 0 in) (<= in 10)))\\n'\n",
      "             '(assert (= in 30))\\n'\n",
      "             '(check-sat)\\n'\n",
      "             '(get-model)'}\n"
     ]
    }
   ],
   "source": [
    "pprint(java_programs[PROGRAM_NAME][\"30\"])"
   ]
  },
  {
   "cell_type": "code",
   "execution_count": 10,
   "id": "0c70e489",
   "metadata": {},
   "outputs": [
    {
     "data": {
      "text/plain": [
       "{'result': False, 'reason': 'A does not imply B'}"
      ]
     },
     "execution_count": 10,
     "metadata": {},
     "output_type": "execute_result"
    }
   ],
   "source": [
    "utils.check_logical_equivalence_v2(\n",
    "    original_assertions=java_programs[PROGRAM_NAME][\"30\"][\"assertions\"],\n",
    "    generated_assertions=java_programs[PROGRAM_NAME][\"30\"][\"response\"].split(\"(declare-fun in () Int)\\n\")[1].split(\"(check-sat)\\n\")[0],\n",
    "    original_constants=java_programs[PROGRAM_NAME][\"30\"][\"constants\"],\n",
    "    generated_constants=java_programs[PROGRAM_NAME][\"30\"][\"response\"].split(\"Answer:\\n\")[1].split(\"(assert\")[0]\n",
    ")"
   ]
  }
 ],
 "metadata": {
  "kernelspec": {
   "display_name": ".venv",
   "language": "python",
   "name": "python3"
  },
  "language_info": {
   "codemirror_mode": {
    "name": "ipython",
    "version": 3
   },
   "file_extension": ".py",
   "mimetype": "text/x-python",
   "name": "python",
   "nbconvert_exporter": "python",
   "pygments_lexer": "ipython3",
   "version": "3.11.4"
  }
 },
 "nbformat": 4,
 "nbformat_minor": 5
}
