{
 "cells": [
  {
   "cell_type": "code",
   "execution_count": 2,
   "id": "09e73c3d",
   "metadata": {},
   "outputs": [],
   "source": [
    "import json\n",
    "from pprint import pprint\n",
    "import sys\n",
    "from pathlib import Path\n",
    "\n",
    "sys.path.append(str(Path('..').resolve()))\n",
    "import utils\n",
    "\n",
    "with open(\"java_programs.dict\", \"r\") as f:\n",
    "    java_programs = json.load(f)\n",
    "\n",
    "SIZES = {2,4,8,16,30}\n",
    "PROGRAM_NAME = \"RampUp\""
   ]
  },
  {
   "cell_type": "code",
   "execution_count": 3,
   "id": "0fa7a34b",
   "metadata": {},
   "outputs": [
    {
     "name": "stdout",
     "output_type": "stream",
     "text": [
      "{'assertions': '(assert (and  ( <  in0 0)  ( <  in1 0)))',\n",
      " 'constants': '(declare-const in0 Int)\\n(declare-const in1 Int)',\n",
      " 'response': 'Worst-case time complexity: O(N)\\n'\n",
      "             '\\n'\n",
      "             'Reasoning:\\n'\n",
      "             '- First loop scans the entire array once: N iterations.\\n'\n",
      "             '- If all elements are non-negative, the second loop executes '\n",
      "             '500·N iterations.\\n'\n",
      "             '- Total worst-case iterations ≈ N + 500·N = 501·N → Θ(N).\\n'\n",
      "             '\\n'\n",
      "             'For input size n = 2, to take the worst-case path, both inputs '\n",
      "             'must be non-negative.\\n'\n",
      "             '\\n'\n",
      "             'Answer:\\n'\n",
      "             '(set-logic QF_LIA)\\n'\n",
      "             '(declare-const in0 Int)\\n'\n",
      "             '(declare-const in1 Int)\\n'\n",
      "             '(assert (>= in0 0))\\n'\n",
      "             '(assert (>= in1 0))\\n'\n",
      "             '(check-sat)\\n'\n",
      "             '(get-model)'}\n"
     ]
    }
   ],
   "source": [
    "pprint(java_programs[PROGRAM_NAME][\"2\"])"
   ]
  },
  {
   "cell_type": "code",
   "execution_count": 4,
   "id": "b9c89fec",
   "metadata": {},
   "outputs": [
    {
     "data": {
      "text/plain": [
       "{'result': False, 'reason': 'A does not imply B'}"
      ]
     },
     "execution_count": 4,
     "metadata": {},
     "output_type": "execute_result"
    }
   ],
   "source": [
    "utils.check_logical_equivalence(\n",
    "    original_assertions=java_programs[PROGRAM_NAME][\"2\"][\"assertions\"],\n",
    "    generated_assertions=java_programs[PROGRAM_NAME][\"2\"][\"response\"].split(\"(declare-const in1 Int)\\n\")[1].split(\"(check-sat)\\n\")[0],\n",
    "    constants=java_programs[PROGRAM_NAME][\"2\"][\"constants\"]\n",
    ")"
   ]
  },
  {
   "cell_type": "code",
   "execution_count": 5,
   "id": "848a8e57",
   "metadata": {},
   "outputs": [
    {
     "name": "stdout",
     "output_type": "stream",
     "text": [
      "{'assertions': '(assert (and (and (and  ( <  in0 0)  ( <  in1 0))  ( <  in2 '\n",
      "               '0))  ( <  in3 0)))',\n",
      " 'constants': '(declare-const in0 Int)\\n'\n",
      "              '(declare-const in2 Int)\\n'\n",
      "              '(declare-const in1 Int)\\n'\n",
      "              '(declare-const in3 Int)',\n",
      " 'response': '- Worst-case time complexity: O(N) (linear). The first loop '\n",
      "             'takes N checks; in the worst case (all elements non-negative), '\n",
      "             'the second loop executes 500N iterations. Total ≈ 501N = Θ(N).\\n'\n",
      "             '\\n'\n",
      "             'Answer:\\n'\n",
      "             '(set-logic QF_LIA)\\n'\n",
      "             '(declare-const in0 Int)\\n'\n",
      "             '(declare-const in1 Int)\\n'\n",
      "             '(declare-const in2 Int)\\n'\n",
      "             '(declare-const in3 Int)\\n'\n",
      "             '; Path to worst-case (allPositive == true) for N = 4\\n'\n",
      "             '(assert (and (>= in0 0) (>= in1 0) (>= in2 0) (>= in3 0)))\\n'\n",
      "             '(check-sat)'}\n"
     ]
    }
   ],
   "source": [
    "pprint(java_programs[PROGRAM_NAME][\"4\"])"
   ]
  },
  {
   "cell_type": "code",
   "execution_count": 7,
   "id": "75ba4fa7",
   "metadata": {},
   "outputs": [
    {
     "data": {
      "text/plain": [
       "{'result': False, 'reason': 'A does not imply B'}"
      ]
     },
     "execution_count": 7,
     "metadata": {},
     "output_type": "execute_result"
    }
   ],
   "source": [
    "utils.check_logical_equivalence(\n",
    "    original_assertions=java_programs[PROGRAM_NAME][\"4\"][\"assertions\"],\n",
    "    generated_assertions=java_programs[PROGRAM_NAME][\"4\"][\"response\"].split(\"(declare-const in3 Int)\\n\")[1].split(\"(check-sat)\\n\")[0],\n",
    "    constants=java_programs[PROGRAM_NAME][\"4\"][\"constants\"]\n",
    ")"
   ]
  },
  {
   "cell_type": "code",
   "execution_count": 8,
   "id": "61ec3223",
   "metadata": {},
   "outputs": [
    {
     "name": "stdout",
     "output_type": "stream",
     "text": [
      "{'assertions': '(assert (and (and (and (and (and (and (and  ( <  in0 0)  ( <  '\n",
      "               'in1 0))  ( <  in2 0))  ( <  in3 0))  ( <  in4 0))  ( <  in5 '\n",
      "               '0))  ( <  in6 0))  ( <  in7 0)))',\n",
      " 'constants': '(declare-const in6 Int)\\n'\n",
      "              '(declare-const in5 Int)\\n'\n",
      "              '(declare-const in7 Int)\\n'\n",
      "              '(declare-const in0 Int)\\n'\n",
      "              '(declare-const in2 Int)\\n'\n",
      "              '(declare-const in1 Int)\\n'\n",
      "              '(declare-const in4 Int)\\n'\n",
      "              '(declare-const in3 Int)',\n",
      " 'response': 'Worst-case time complexity: O(N).\\n'\n",
      "             '\\n'\n",
      "             'Explanation:\\n'\n",
      "             '- First loop scans the array once: O(N).\\n'\n",
      "             '- The second loop runs only if all elements are non-negative, '\n",
      "             'for 500·N iterations. Each iteration is O(1) (int '\n",
      "             'multiplication), so it is O(N).\\n'\n",
      "             '- Therefore, the worst-case (when all elements are non-negative) '\n",
      "             'is O(N) + O(N) = O(N). It is also Θ(N).\\n'\n",
      "             '\\n'\n",
      "             'Path constraint for N = 8 that triggers the worst-case (entering '\n",
      "             'the if-branch): every element must be non-negative.\\n'\n",
      "             '\\n'\n",
      "             'Answer:\\n'\n",
      "             '(set-logic QF_LIA)\\n'\n",
      "             '(declare-const in0 Int)\\n'\n",
      "             '(declare-const in1 Int)\\n'\n",
      "             '(declare-const in2 Int)\\n'\n",
      "             '(declare-const in3 Int)\\n'\n",
      "             '(declare-const in4 Int)\\n'\n",
      "             '(declare-const in5 Int)\\n'\n",
      "             '(declare-const in6 Int)\\n'\n",
      "             '(declare-const in7 Int)\\n'\n",
      "             '(assert (and (>= in0 0) (>= in1 0) (>= in2 0) (>= in3 0) (>= in4 '\n",
      "             '0) (>= in5 0) (>= in6 0) (>= in7 0)))\\n'\n",
      "             '(check-sat)\\n'\n",
      "             '(get-model)'}\n"
     ]
    }
   ],
   "source": [
    "pprint(java_programs[PROGRAM_NAME][\"8\"])"
   ]
  },
  {
   "cell_type": "code",
   "execution_count": 9,
   "id": "3becdb18",
   "metadata": {},
   "outputs": [
    {
     "data": {
      "text/plain": [
       "{'result': False, 'reason': 'A does not imply B'}"
      ]
     },
     "execution_count": 9,
     "metadata": {},
     "output_type": "execute_result"
    }
   ],
   "source": [
    "utils.check_logical_equivalence(\n",
    "    original_assertions=java_programs[PROGRAM_NAME][\"8\"][\"assertions\"],\n",
    "    generated_assertions=java_programs[PROGRAM_NAME][\"8\"][\"response\"].split(\"(declare-const in7 Int)\\n\")[1].split(\"(check-sat)\\n\")[0],\n",
    "    constants=java_programs[PROGRAM_NAME][\"8\"][\"constants\"]\n",
    ")"
   ]
  },
  {
   "cell_type": "code",
   "execution_count": 10,
   "id": "7f414f5c",
   "metadata": {},
   "outputs": [
    {
     "name": "stdout",
     "output_type": "stream",
     "text": [
      "{'assertions': '(assert (and (and (and (and (and (and (and (and (and (and (and '\n",
      "               '(and (and (and (and  ( <  in0 0)  ( <  in1 0))  ( <  in2 0))  '\n",
      "               '( <  in3 0))  ( <  in4 0))  ( <  in5 0))  ( <  in6 0))  ( <  '\n",
      "               'in7 0))  ( <  in8 0))  ( <  in9 0))  ( <  in10 0))  ( <  in11 '\n",
      "               '0))  ( <  in12 0))  ( <  in13 0))  ( <  in14 0))  ( <  in15 '\n",
      "               '0)))',\n",
      " 'constants': '(declare-const in0 Int)\\n'\n",
      "              '(declare-const in2 Int)\\n'\n",
      "              '(declare-const in1 Int)\\n'\n",
      "              '(declare-const in4 Int)\\n'\n",
      "              '(declare-const in3 Int)\\n'\n",
      "              '(declare-const in6 Int)\\n'\n",
      "              '(declare-const in5 Int)\\n'\n",
      "              '(declare-const in8 Int)\\n'\n",
      "              '(declare-const in7 Int)\\n'\n",
      "              '(declare-const in11 Int)\\n'\n",
      "              '(declare-const in10 Int)\\n'\n",
      "              '(declare-const in9 Int)\\n'\n",
      "              '(declare-const in13 Int)\\n'\n",
      "              '(declare-const in12 Int)\\n'\n",
      "              '(declare-const in15 Int)\\n'\n",
      "              '(declare-const in14 Int)',\n",
      " 'response': 'Worst-case time complexity: Θ(N). It occurs when all N array '\n",
      "             'elements are non-negative, so the second loop runs N*500 '\n",
      "             'iterations (still linear in N).\\n'\n",
      "             '\\n'\n",
      "             'Answer:\\n'\n",
      "             '(set-logic QF_LIA)\\n'\n",
      "             '(declare-fun in0 () Int)\\n'\n",
      "             '(declare-fun in1 () Int)\\n'\n",
      "             '(declare-fun in2 () Int)\\n'\n",
      "             '(declare-fun in3 () Int)\\n'\n",
      "             '(declare-fun in4 () Int)\\n'\n",
      "             '(declare-fun in5 () Int)\\n'\n",
      "             '(declare-fun in6 () Int)\\n'\n",
      "             '(declare-fun in7 () Int)\\n'\n",
      "             '(declare-fun in8 () Int)\\n'\n",
      "             '(declare-fun in9 () Int)\\n'\n",
      "             '(declare-fun in10 () Int)\\n'\n",
      "             '(declare-fun in11 () Int)\\n'\n",
      "             '(declare-fun in12 () Int)\\n'\n",
      "             '(declare-fun in13 () Int)\\n'\n",
      "             '(declare-fun in14 () Int)\\n'\n",
      "             '(declare-fun in15 () Int)\\n'\n",
      "             '(assert (>= in0 0))\\n'\n",
      "             '(assert (>= in1 0))\\n'\n",
      "             '(assert (>= in2 0))\\n'\n",
      "             '(assert (>= in3 0))\\n'\n",
      "             '(assert (>= in4 0))\\n'\n",
      "             '(assert (>= in5 0))\\n'\n",
      "             '(assert (>= in6 0))\\n'\n",
      "             '(assert (>= in7 0))\\n'\n",
      "             '(assert (>= in8 0))\\n'\n",
      "             '(assert (>= in9 0))\\n'\n",
      "             '(assert (>= in10 0))\\n'\n",
      "             '(assert (>= in11 0))\\n'\n",
      "             '(assert (>= in12 0))\\n'\n",
      "             '(assert (>= in13 0))\\n'\n",
      "             '(assert (>= in14 0))\\n'\n",
      "             '(assert (>= in15 0))\\n'\n",
      "             '(check-sat)\\n'\n",
      "             '(get-model)'}\n"
     ]
    }
   ],
   "source": [
    "pprint(java_programs[PROGRAM_NAME][\"16\"])"
   ]
  },
  {
   "cell_type": "code",
   "execution_count": 11,
   "id": "162527f7",
   "metadata": {},
   "outputs": [
    {
     "data": {
      "text/plain": [
       "{'result': False, 'reason': 'A does not imply B'}"
      ]
     },
     "execution_count": 11,
     "metadata": {},
     "output_type": "execute_result"
    }
   ],
   "source": [
    "utils.check_logical_equivalence(\n",
    "    original_assertions=java_programs[PROGRAM_NAME][\"16\"][\"assertions\"],\n",
    "    generated_assertions=java_programs[PROGRAM_NAME][\"16\"][\"response\"].split(\"(declare-fun in15 () Int)\\n\")[1].split(\"(check-sat)\\n\")[0],\n",
    "    constants=java_programs[PROGRAM_NAME][\"16\"][\"constants\"]\n",
    ")"
   ]
  },
  {
   "cell_type": "code",
   "execution_count": 12,
   "id": "68994c7c",
   "metadata": {},
   "outputs": [
    {
     "name": "stdout",
     "output_type": "stream",
     "text": [
      "{'assertions': '(assert (and (and (and (and (and (and (and (and (and (and (and '\n",
      "               '(and (and (and (and (and (and (and (and (and (and (and (and '\n",
      "               '(and (and (and (and (and (and  ( <  in0 0)  ( <  in1 0))  ( <  '\n",
      "               'in2 0))  ( <  in3 0))  ( <  in4 0))  ( <  in5 0))  ( <  in6 '\n",
      "               '0))  ( <  in7 0))  ( <  in8 0))  ( <  in9 0))  ( <  in10 0))  '\n",
      "               '( <  in11 0))  ( <  in12 0))  ( <  in13 0))  ( <  in14 0))  ( '\n",
      "               '<  in15 0))  ( <  in16 0))  ( <  in17 0))  ( <  in18 0))  ( <  '\n",
      "               'in19 0))  ( <  in20 0))  ( <  in21 0))  ( <  in22 0))  ( <  '\n",
      "               'in23 0))  ( <  in24 0))  ( <  in25 0))  ( <  in26 0))  ( <  '\n",
      "               'in27 0))  ( <  in28 0))  ( <  in29 0)))',\n",
      " 'constants': '(declare-const in20 Int)\\n'\n",
      "              '(declare-const in22 Int)\\n'\n",
      "              '(declare-const in21 Int)\\n'\n",
      "              '(declare-const in24 Int)\\n'\n",
      "              '(declare-const in23 Int)\\n'\n",
      "              '(declare-const in26 Int)\\n'\n",
      "              '(declare-const in25 Int)\\n'\n",
      "              '(declare-const in28 Int)\\n'\n",
      "              '(declare-const in27 Int)\\n'\n",
      "              '(declare-const in29 Int)\\n'\n",
      "              '(declare-const in0 Int)\\n'\n",
      "              '(declare-const in2 Int)\\n'\n",
      "              '(declare-const in1 Int)\\n'\n",
      "              '(declare-const in4 Int)\\n'\n",
      "              '(declare-const in3 Int)\\n'\n",
      "              '(declare-const in6 Int)\\n'\n",
      "              '(declare-const in5 Int)\\n'\n",
      "              '(declare-const in8 Int)\\n'\n",
      "              '(declare-const in7 Int)\\n'\n",
      "              '(declare-const in11 Int)\\n'\n",
      "              '(declare-const in10 Int)\\n'\n",
      "              '(declare-const in9 Int)\\n'\n",
      "              '(declare-const in13 Int)\\n'\n",
      "              '(declare-const in12 Int)\\n'\n",
      "              '(declare-const in15 Int)\\n'\n",
      "              '(declare-const in14 Int)\\n'\n",
      "              '(declare-const in17 Int)\\n'\n",
      "              '(declare-const in16 Int)\\n'\n",
      "              '(declare-const in19 Int)\\n'\n",
      "              '(declare-const in18 Int)',\n",
      " 'response': '- Worst-case time complexity: Θ(N)\\n'\n",
      "             '  - The first loop scans the N elements once (O(N)).\\n'\n",
      "             '  - If all elements are non-negative, the second loop runs 500·N '\n",
      "             'iterations, each O(1), so O(N).\\n'\n",
      "             '  - Worst-case total: O(N + 500N) = Θ(N).\\n'\n",
      "             '\\n'\n",
      "             'SMT2 constraints for the worst-case path when input size n = 30 '\n",
      "             '(all elements non-negative):\\n'\n",
      "             '(set-logic QF_LIA)\\n'\n",
      "             '(declare-const N Int)\\n'\n",
      "             '(assert (= N 30))\\n'\n",
      "             '(declare-const in0 Int)\\n'\n",
      "             '(declare-const in1 Int)\\n'\n",
      "             '(declare-const in2 Int)\\n'\n",
      "             '(declare-const in3 Int)\\n'\n",
      "             '(declare-const in4 Int)\\n'\n",
      "             '(declare-const in5 Int)\\n'\n",
      "             '(declare-const in6 Int)\\n'\n",
      "             '(declare-const in7 Int)\\n'\n",
      "             '(declare-const in8 Int)\\n'\n",
      "             '(declare-const in9 Int)\\n'\n",
      "             '(declare-const in10 Int)\\n'\n",
      "             '(declare-const in11 Int)\\n'\n",
      "             '(declare-const in12 Int)\\n'\n",
      "             '(declare-const in13 Int)\\n'\n",
      "             '(declare-const in14 Int)\\n'\n",
      "             '(declare-const in15 Int)\\n'\n",
      "             '(declare-const in16 Int)\\n'\n",
      "             '(declare-const in17 Int)\\n'\n",
      "             '(declare-const in18 Int)\\n'\n",
      "             '(declare-const in19 Int)\\n'\n",
      "             '(declare-const in20 Int)\\n'\n",
      "             '(declare-const in21 Int)\\n'\n",
      "             '(declare-const in22 Int)\\n'\n",
      "             '(declare-const in23 Int)\\n'\n",
      "             '(declare-const in24 Int)\\n'\n",
      "             '(declare-const in25 Int)\\n'\n",
      "             '(declare-const in26 Int)\\n'\n",
      "             '(declare-const in27 Int)\\n'\n",
      "             '(declare-const in28 Int)\\n'\n",
      "             '(declare-const in29 Int)\\n'\n",
      "             '(assert (and\\n'\n",
      "             '  (>= in0 0) (>= in1 0) (>= in2 0) (>= in3 0) (>= in4 0)\\n'\n",
      "             '  (>= in5 0) (>= in6 0) (>= in7 0) (>= in8 0) (>= in9 0)\\n'\n",
      "             '  (>= in10 0) (>= in11 0) (>= in12 0) (>= in13 0) (>= in14 0)\\n'\n",
      "             '  (>= in15 0) (>= in16 0) (>= in17 0) (>= in18 0) (>= in19 0)\\n'\n",
      "             '  (>= in20 0) (>= in21 0) (>= in22 0) (>= in23 0) (>= in24 0)\\n'\n",
      "             '  (>= in25 0) (>= in26 0) (>= in27 0) (>= in28 0) (>= in29 0)))\\n'\n",
      "             '(check-sat)\\n'\n",
      "             '(get-model)\\n'\n",
      "             '\\n'\n",
      "             'Answer: (and (>= in0 0) (>= in1 0) (>= in2 0) (>= in3 0) (>= in4 '\n",
      "             '0) (>= in5 0) (>= in6 0) (>= in7 0) (>= in8 0) (>= in9 0) (>= '\n",
      "             'in10 0) (>= in11 0) (>= in12 0) (>= in13 0) (>= in14 0) (>= in15 '\n",
      "             '0) (>= in16 0) (>= in17 0) (>= in18 0) (>= in19 0) (>= in20 0) '\n",
      "             '(>= in21 0) (>= in22 0) (>= in23 0) (>= in24 0) (>= in25 0) (>= '\n",
      "             'in26 0) (>= in27 0) (>= in28 0) (>= in29 0))'}\n"
     ]
    }
   ],
   "source": [
    "pprint(java_programs[PROGRAM_NAME][\"30\"])"
   ]
  },
  {
   "cell_type": "code",
   "execution_count": 13,
   "id": "91df6d2d",
   "metadata": {},
   "outputs": [
    {
     "data": {
      "text/plain": [
       "{'result': False, 'reason': 'A does not imply B'}"
      ]
     },
     "execution_count": 13,
     "metadata": {},
     "output_type": "execute_result"
    }
   ],
   "source": [
    "utils.check_logical_equivalence(\n",
    "    original_assertions=java_programs[PROGRAM_NAME][\"30\"][\"assertions\"],\n",
    "    generated_assertions=java_programs[PROGRAM_NAME][\"30\"][\"response\"].split(\"(declare-const in29 Int)\\n\")[1].split(\"(check-sat)\\n\")[0],\n",
    "    constants=java_programs[PROGRAM_NAME][\"30\"][\"constants\"]\n",
    ")"
   ]
  }
 ],
 "metadata": {
  "kernelspec": {
   "display_name": ".venv",
   "language": "python",
   "name": "python3"
  },
  "language_info": {
   "codemirror_mode": {
    "name": "ipython",
    "version": 3
   },
   "file_extension": ".py",
   "mimetype": "text/x-python",
   "name": "python",
   "nbconvert_exporter": "python",
   "pygments_lexer": "ipython3",
   "version": "3.11.4"
  }
 },
 "nbformat": 4,
 "nbformat_minor": 5
}
