{
 "cells": [
  {
   "cell_type": "code",
   "execution_count": 1,
   "id": "9c624e56",
   "metadata": {},
   "outputs": [],
   "source": [
    "import json\n",
    "from pprint import pprint\n",
    "import sys\n",
    "from pathlib import Path\n",
    "\n",
    "sys.path.append(str(Path('..').resolve()))\n",
    "import utils\n",
    "\n",
    "with open(\"java_programs.dict\", \"r\") as f:\n",
    "    java_programs = json.load(f)\n",
    "\n",
    "SIZES = {2,4,8,16,30}\n",
    "PROGRAM_NAME = \"DizzyRamp\""
   ]
  },
  {
   "cell_type": "code",
   "execution_count": 2,
   "id": "9053b2df",
   "metadata": {},
   "outputs": [
    {
     "name": "stdout",
     "output_type": "stream",
     "text": [
      "{'assertions': '(assert (and  ( <=  in1 in0)  ( <  in1 in0)))',\n",
      " 'constants': '(declare-const in0 Int)\\n(declare-const in1 Int)',\n",
      " 'response': '- Worst-case time complexity: O(N) time, O(1) extra space.\\n'\n",
      "             '  - The first for-loop runs in O(N).\\n'\n",
      "             '  - The second loop runs only if spinning becomes true; when it '\n",
      "             'does, it adds another O(N).\\n'\n",
      "             '  - Thus the worst case is O(N) + O(N) = O(N). (The integer '\n",
      "             'multiplication is constant time.)\\n'\n",
      "             '\\n'\n",
      "             '- When does the worst case occur?\\n'\n",
      "             '  - spinning becomes true if there exists an i such that arr[i] '\n",
      "             '== arr[i-1], or if the sequence first decreases at some point '\n",
      "             'and later increases (i.e., an increase after climbing has been '\n",
      "             'set to false).\\n'\n",
      "             '  - For N = 2, the only way to make spinning true is arr[1] == '\n",
      "             'arr[0].\\n'\n",
      "             '\\n'\n",
      "             'Answer:\\n'\n",
      "             '(set-logic QF_LIA)\\n'\n",
      "             '(declare-const in0 Int)\\n'\n",
      "             '(declare-const in1 Int)\\n'\n",
      "             '; N = 2; worst-case when spinning becomes true\\n'\n",
      "             '(assert (= in1 in0))\\n'\n",
      "             '(check-sat)\\n'\n",
      "             '(get-model)'}\n"
     ]
    }
   ],
   "source": [
    "pprint(java_programs[PROGRAM_NAME][\"2\"])"
   ]
  },
  {
   "cell_type": "code",
   "execution_count": 3,
   "id": "39c8547b",
   "metadata": {},
   "outputs": [
    {
     "data": {
      "text/plain": [
       "{'result': False, 'reason': 'A does not imply B'}"
      ]
     },
     "execution_count": 3,
     "metadata": {},
     "output_type": "execute_result"
    }
   ],
   "source": [
    "utils.check_logical_equivalence(\n",
    "    original_assertions=java_programs[PROGRAM_NAME][\"2\"][\"assertions\"],\n",
    "    generated_assertions=java_programs[PROGRAM_NAME][\"2\"][\"response\"].split(\"(declare-const in1 Int)\\n\")[1].split(\"(check-sat)\\n\")[0],\n",
    "    constants=java_programs[PROGRAM_NAME][\"2\"][\"constants\"]\n",
    ")"
   ]
  },
  {
   "cell_type": "code",
   "execution_count": 4,
   "id": "c6236239",
   "metadata": {},
   "outputs": [
    {
     "name": "stdout",
     "output_type": "stream",
     "text": [
      "{'assertions': '(assert (and (and (and (and (and  ( <=  in1 in0)  ( <  in1 '\n",
      "               'in0))  ( <=  in2 in1))  ( <  in2 in1))  ( <=  in3 in2))  ( <  '\n",
      "               'in3 in2)))',\n",
      " 'constants': '(declare-const in0 Int)\\n'\n",
      "              '(declare-const in2 Int)\\n'\n",
      "              '(declare-const in1 Int)\\n'\n",
      "              '(declare-const in3 Int)',\n",
      " 'response': 'Worst-case time complexity: Theta(N), where N = arr.length. The '\n",
      "             'first loop always does N-1 comparisons. In the worst case, '\n",
      "             'spinning becomes true and the second loop performs N integer '\n",
      "             'multiplications. With Java 32-bit int arithmetic being '\n",
      "             'constant-time, total work is linear.\\n'\n",
      "             '\\n'\n",
      "             'One worst-case-triggering condition for N=4 is to make any '\n",
      "             'adjacent pair equal, which forces spinning = true. For example, '\n",
      "             'enforce in1 = in0.\\n'\n",
      "             '\\n'\n",
      "             'Answer:\\n'\n",
      "             '(set-logic QF_LIA)\\n'\n",
      "             '(declare-const in0 Int)\\n'\n",
      "             '(declare-const in1 Int)\\n'\n",
      "             '(declare-const in2 Int)\\n'\n",
      "             '(declare-const in3 Int)\\n'\n",
      "             '; Ensure spinning becomes true at i=1 by making adjacent '\n",
      "             'elements equal\\n'\n",
      "             '(assert (= in1 in0))\\n'\n",
      "             '(check-sat)\\n'\n",
      "             '(get-model)'}\n"
     ]
    }
   ],
   "source": [
    "pprint(java_programs[PROGRAM_NAME][\"4\"])"
   ]
  },
  {
   "cell_type": "code",
   "execution_count": 5,
   "id": "48f8e7b7",
   "metadata": {},
   "outputs": [
    {
     "data": {
      "text/plain": [
       "{'result': False, 'reason': 'A does not imply B'}"
      ]
     },
     "execution_count": 5,
     "metadata": {},
     "output_type": "execute_result"
    }
   ],
   "source": [
    "utils.check_logical_equivalence(\n",
    "    original_assertions=java_programs[PROGRAM_NAME][\"4\"][\"assertions\"],\n",
    "    generated_assertions=java_programs[PROGRAM_NAME][\"4\"][\"response\"].split(\"elements equal\\n\")[1].split(\"(check-sat)\\n\")[0],\n",
    "    constants=java_programs[PROGRAM_NAME][\"4\"][\"constants\"]\n",
    ")"
   ]
  },
  {
   "cell_type": "code",
   "execution_count": 6,
   "id": "5ceea560",
   "metadata": {},
   "outputs": [
    {
     "name": "stdout",
     "output_type": "stream",
     "text": [
      "{'assertions': '(assert (and (and (and (and (and (and (and (and (and (and (and '\n",
      "               '(and (and  ( <=  in1 in0)  ( <  in1 in0))  ( <=  in2 in1))  ( '\n",
      "               '<  in2 in1))  ( <=  in3 in2))  ( <  in3 in2))  ( <=  in4 '\n",
      "               'in3))  ( <  in4 in3))  ( <=  in5 in4))  ( <  in5 in4))  ( <=  '\n",
      "               'in6 in5))  ( <  in6 in5))  ( <=  in7 in6))  ( <  in7 in6)))',\n",
      " 'constants': '(declare-const in6 Int)\\n'\n",
      "              '(declare-const in5 Int)\\n'\n",
      "              '(declare-const in7 Int)\\n'\n",
      "              '(declare-const in0 Int)\\n'\n",
      "              '(declare-const in2 Int)\\n'\n",
      "              '(declare-const in1 Int)\\n'\n",
      "              '(declare-const in4 Int)\\n'\n",
      "              '(declare-const in3 Int)',\n",
      " 'response': 'Worst-case time complexity: Θ(N)\\n'\n",
      "             '- The first loop scans the array once: O(N).\\n'\n",
      "             '- If spinning becomes true, a second loop runs N iterations with '\n",
      "             'constant-time work per iteration: O(N).\\n'\n",
      "             '- Therefore, even in the worst case (spinning = true), total '\n",
      "             'time is O(N) + O(N) = Θ(N).\\n'\n",
      "             '\\n'\n",
      "             'Constraint to trigger the worst-case (spinning = true) for n = '\n",
      "             '8:\\n'\n",
      "             'A simple way is to force any adjacent equality, e.g., in1 = in0. '\n",
      "             'That guarantees spinning becomes true at i = 1.\\n'\n",
      "             '\\n'\n",
      "             'Answer:\\n'\n",
      "             '(set-logic QF_LIA)\\n'\n",
      "             '(declare-const in0 Int)\\n'\n",
      "             '(declare-const in1 Int)\\n'\n",
      "             '(declare-const in2 Int)\\n'\n",
      "             '(declare-const in3 Int)\\n'\n",
      "             '(declare-const in4 Int)\\n'\n",
      "             '(declare-const in5 Int)\\n'\n",
      "             '(declare-const in6 Int)\\n'\n",
      "             '(declare-const in7 Int)\\n'\n",
      "             '(assert (= in1 in0))\\n'\n",
      "             '(check-sat)\\n'\n",
      "             '(get-model)'}\n"
     ]
    }
   ],
   "source": [
    "pprint(java_programs[PROGRAM_NAME][\"8\"])"
   ]
  },
  {
   "cell_type": "code",
   "execution_count": 7,
   "id": "264728f7",
   "metadata": {},
   "outputs": [
    {
     "data": {
      "text/plain": [
       "{'result': False, 'reason': 'A does not imply B'}"
      ]
     },
     "execution_count": 7,
     "metadata": {},
     "output_type": "execute_result"
    }
   ],
   "source": [
    "utils.check_logical_equivalence(\n",
    "    original_assertions=java_programs[PROGRAM_NAME][\"8\"][\"assertions\"],\n",
    "    generated_assertions=java_programs[PROGRAM_NAME][\"8\"][\"response\"].split(\"(declare-const in7 Int)\\n\")[1].split(\"(check-sat)\\n\")[0],\n",
    "    constants=java_programs[PROGRAM_NAME][\"8\"][\"constants\"]\n",
    ")"
   ]
  },
  {
   "cell_type": "code",
   "execution_count": 8,
   "id": "d5151736",
   "metadata": {},
   "outputs": [
    {
     "name": "stdout",
     "output_type": "stream",
     "text": [
      "{'assertions': '(assert (and (and (and (and (and (and (and (and (and (and (and '\n",
      "               '(and (and (and (and (and (and (and (and (and (and (and (and '\n",
      "               '(and (and (and (and (and (and  ( <=  in1 in0)  ( <  in1 in0))  '\n",
      "               '( <=  in2 in1))  ( <  in2 in1))  ( <=  in3 in2))  ( <  in3 '\n",
      "               'in2))  ( <=  in4 in3))  ( <  in4 in3))  ( <=  in5 in4))  ( <  '\n",
      "               'in5 in4))  ( <=  in6 in5))  ( <  in6 in5))  ( <=  in7 in6))  ( '\n",
      "               '<  in7 in6))  ( <=  in8 in7))  ( <  in8 in7))  ( <=  in9 '\n",
      "               'in8))  ( <  in9 in8))  ( <=  in10 in9))  ( <  in10 in9))  ( '\n",
      "               '<=  in11 in10))  ( <  in11 in10))  ( <=  in12 in11))  ( <  '\n",
      "               'in12 in11))  ( <=  in13 in12))  ( <  in13 in12))  ( <=  in14 '\n",
      "               'in13))  ( <  in14 in13))  ( <=  in15 in14))  ( <  in15 in14)))',\n",
      " 'constants': '(declare-const in0 Int)\\n'\n",
      "              '(declare-const in2 Int)\\n'\n",
      "              '(declare-const in1 Int)\\n'\n",
      "              '(declare-const in4 Int)\\n'\n",
      "              '(declare-const in3 Int)\\n'\n",
      "              '(declare-const in6 Int)\\n'\n",
      "              '(declare-const in5 Int)\\n'\n",
      "              '(declare-const in8 Int)\\n'\n",
      "              '(declare-const in7 Int)\\n'\n",
      "              '(declare-const in11 Int)\\n'\n",
      "              '(declare-const in10 Int)\\n'\n",
      "              '(declare-const in9 Int)\\n'\n",
      "              '(declare-const in13 Int)\\n'\n",
      "              '(declare-const in12 Int)\\n'\n",
      "              '(declare-const in15 Int)\\n'\n",
      "              '(declare-const in14 Int)',\n",
      " 'response': 'Worst-case time complexity: O(N)\\n'\n",
      "             '- The first for-loop scans the array once: O(N).\\n'\n",
      "             '- If spinning becomes true, the second loop performs N '\n",
      "             'constant-time multiplications: O(N).\\n'\n",
      "             '- Therefore, the worst-case (and average/best-case '\n",
      "             'asymptotically) time complexity is O(N).\\n'\n",
      "             '\\n'\n",
      "             'SMT2 constraint for input size n = 16 to force the worst-case '\n",
      "             'path (spinning = true):\\n'\n",
      "             'A simple way is to require any consecutive pair to be equal, '\n",
      "             'which immediately sets spinning = true. For example, enforce in1 '\n",
      "             '= in0.\\n'\n",
      "             '\\n'\n",
      "             'Answer:\\n'\n",
      "             '(set-logic QF_LIA)\\n'\n",
      "             '(declare-fun in0 () Int)\\n'\n",
      "             '(declare-fun in1 () Int)\\n'\n",
      "             '(declare-fun in2 () Int)\\n'\n",
      "             '(declare-fun in3 () Int)\\n'\n",
      "             '(declare-fun in4 () Int)\\n'\n",
      "             '(declare-fun in5 () Int)\\n'\n",
      "             '(declare-fun in6 () Int)\\n'\n",
      "             '(declare-fun in7 () Int)\\n'\n",
      "             '(declare-fun in8 () Int)\\n'\n",
      "             '(declare-fun in9 () Int)\\n'\n",
      "             '(declare-fun in10 () Int)\\n'\n",
      "             '(declare-fun in11 () Int)\\n'\n",
      "             '(declare-fun in12 () Int)\\n'\n",
      "             '(declare-fun in13 () Int)\\n'\n",
      "             '(declare-fun in14 () Int)\\n'\n",
      "             '(declare-fun in15 () Int)\\n'\n",
      "             '; Force spinning = true by making two consecutive elements '\n",
      "             'equal\\n'\n",
      "             '(assert (= in1 in0))\\n'\n",
      "             '(check-sat)\\n'\n",
      "             '(get-model)'}\n"
     ]
    }
   ],
   "source": [
    "pprint(java_programs[PROGRAM_NAME][\"16\"])"
   ]
  },
  {
   "cell_type": "code",
   "execution_count": 9,
   "id": "01a5bb39",
   "metadata": {},
   "outputs": [
    {
     "data": {
      "text/plain": [
       "{'result': False, 'reason': 'A does not imply B'}"
      ]
     },
     "execution_count": 9,
     "metadata": {},
     "output_type": "execute_result"
    }
   ],
   "source": [
    "utils.check_logical_equivalence(\n",
    "    original_assertions=java_programs[PROGRAM_NAME][\"16\"][\"assertions\"],\n",
    "    generated_assertions=java_programs[PROGRAM_NAME][\"16\"][\"response\"].split(\"elements equal\\n\")[1].split(\"(check-sat)\\n\")[0],\n",
    "    constants=java_programs[PROGRAM_NAME][\"16\"][\"constants\"]\n",
    ")"
   ]
  },
  {
   "cell_type": "code",
   "execution_count": 10,
   "id": "b2691a6f",
   "metadata": {},
   "outputs": [
    {
     "name": "stdout",
     "output_type": "stream",
     "text": [
      "{'assertions': '(assert (and (and (and (and (and (and (and (and (and (and (and '\n",
      "               '(and (and (and (and (and (and (and (and (and (and (and (and '\n",
      "               '(and (and (and (and (and (and (and (and (and (and (and (and '\n",
      "               '(and (and (and (and (and (and (and (and (and (and (and (and '\n",
      "               '(and (and (and (and (and (and (and (and (and (and  ( <=  in1 '\n",
      "               'in0)  ( <  in1 in0))  ( <=  in2 in1))  ( <  in2 in1))  ( <=  '\n",
      "               'in3 in2))  ( <  in3 in2))  ( <=  in4 in3))  ( <  in4 in3))  ( '\n",
      "               '<=  in5 in4))  ( <  in5 in4))  ( <=  in6 in5))  ( <  in6 '\n",
      "               'in5))  ( <=  in7 in6))  ( <  in7 in6))  ( <=  in8 in7))  ( <  '\n",
      "               'in8 in7))  ( <=  in9 in8))  ( <  in9 in8))  ( <=  in10 in9))  '\n",
      "               '( <  in10 in9))  ( <=  in11 in10))  ( <  in11 in10))  ( <=  '\n",
      "               'in12 in11))  ( <  in12 in11))  ( <=  in13 in12))  ( <  in13 '\n",
      "               'in12))  ( <=  in14 in13))  ( <  in14 in13))  ( <=  in15 '\n",
      "               'in14))  ( <  in15 in14))  ( <=  in16 in15))  ( <  in16 in15))  '\n",
      "               '( <=  in17 in16))  ( <  in17 in16))  ( <=  in18 in17))  ( <  '\n",
      "               'in18 in17))  ( <=  in19 in18))  ( <  in19 in18))  ( <=  in20 '\n",
      "               'in19))  ( <  in20 in19))  ( <=  in21 in20))  ( <  in21 in20))  '\n",
      "               '( <=  in22 in21))  ( <  in22 in21))  ( <=  in23 in22))  ( <  '\n",
      "               'in23 in22))  ( <=  in24 in23))  ( <  in24 in23))  ( <=  in25 '\n",
      "               'in24))  ( <  in25 in24))  ( <=  in26 in25))  ( <  in26 in25))  '\n",
      "               '( <=  in27 in26))  ( <  in27 in26))  ( <=  in28 in27))  ( <  '\n",
      "               'in28 in27))  ( <=  in29 in28))  ( <  in29 in28)))',\n",
      " 'constants': '(declare-const in20 Int)\\n'\n",
      "              '(declare-const in22 Int)\\n'\n",
      "              '(declare-const in21 Int)\\n'\n",
      "              '(declare-const in24 Int)\\n'\n",
      "              '(declare-const in23 Int)\\n'\n",
      "              '(declare-const in26 Int)\\n'\n",
      "              '(declare-const in25 Int)\\n'\n",
      "              '(declare-const in28 Int)\\n'\n",
      "              '(declare-const in27 Int)\\n'\n",
      "              '(declare-const in29 Int)\\n'\n",
      "              '(declare-const in0 Int)\\n'\n",
      "              '(declare-const in2 Int)\\n'\n",
      "              '(declare-const in1 Int)\\n'\n",
      "              '(declare-const in4 Int)\\n'\n",
      "              '(declare-const in3 Int)\\n'\n",
      "              '(declare-const in6 Int)\\n'\n",
      "              '(declare-const in5 Int)\\n'\n",
      "              '(declare-const in8 Int)\\n'\n",
      "              '(declare-const in7 Int)\\n'\n",
      "              '(declare-const in11 Int)\\n'\n",
      "              '(declare-const in10 Int)\\n'\n",
      "              '(declare-const in9 Int)\\n'\n",
      "              '(declare-const in13 Int)\\n'\n",
      "              '(declare-const in12 Int)\\n'\n",
      "              '(declare-const in15 Int)\\n'\n",
      "              '(declare-const in14 Int)\\n'\n",
      "              '(declare-const in17 Int)\\n'\n",
      "              '(declare-const in16 Int)\\n'\n",
      "              '(declare-const in19 Int)\\n'\n",
      "              '(declare-const in18 Int)',\n",
      " 'response': 'Worst-case time complexity: Θ(N)\\n'\n",
      "             '- The first for-loop scans the array once: O(N).\\n'\n",
      "             '- The second for-loop also runs at most N iterations and '\n",
      "             'executes only when spinning becomes true: O(N).\\n'\n",
      "             '- Therefore, the worst-case is linear overall.\\n'\n",
      "             '\\n'\n",
      "             'Inputs that trigger the worst case:\\n'\n",
      "             '- spinning becomes true if there is any adjacent equality arr[i] '\n",
      "             '== arr[i-1], or if there is an increase after a prior decrease. '\n",
      "             'A simple sufficient condition is to force any one adjacent '\n",
      "             'equality.\\n'\n",
      "             '\\n'\n",
      "             'SMT2 constraint for n = 30:\\n'\n",
      "             '- We model the 30 symbolic integers in0..in29 and assert that at '\n",
      "             'least one adjacent pair is equal, which guarantees spinning is '\n",
      "             'true and thus the worst-case path.\\n'\n",
      "             '\\n'\n",
      "             'Answer:\\n'\n",
      "             '(set-logic QF_LIA)\\n'\n",
      "             '(declare-fun in0 () Int)\\n'\n",
      "             '(declare-fun in1 () Int)\\n'\n",
      "             '(declare-fun in2 () Int)\\n'\n",
      "             '(declare-fun in3 () Int)\\n'\n",
      "             '(declare-fun in4 () Int)\\n'\n",
      "             '(declare-fun in5 () Int)\\n'\n",
      "             '(declare-fun in6 () Int)\\n'\n",
      "             '(declare-fun in7 () Int)\\n'\n",
      "             '(declare-fun in8 () Int)\\n'\n",
      "             '(declare-fun in9 () Int)\\n'\n",
      "             '(declare-fun in10 () Int)\\n'\n",
      "             '(declare-fun in11 () Int)\\n'\n",
      "             '(declare-fun in12 () Int)\\n'\n",
      "             '(declare-fun in13 () Int)\\n'\n",
      "             '(declare-fun in14 () Int)\\n'\n",
      "             '(declare-fun in15 () Int)\\n'\n",
      "             '(declare-fun in16 () Int)\\n'\n",
      "             '(declare-fun in17 () Int)\\n'\n",
      "             '(declare-fun in18 () Int)\\n'\n",
      "             '(declare-fun in19 () Int)\\n'\n",
      "             '(declare-fun in20 () Int)\\n'\n",
      "             '(declare-fun in21 () Int)\\n'\n",
      "             '(declare-fun in22 () Int)\\n'\n",
      "             '(declare-fun in23 () Int)\\n'\n",
      "             '(declare-fun in24 () Int)\\n'\n",
      "             '(declare-fun in25 () Int)\\n'\n",
      "             '(declare-fun in26 () Int)\\n'\n",
      "             '(declare-fun in27 () Int)\\n'\n",
      "             '(declare-fun in28 () Int)\\n'\n",
      "             '(declare-fun in29 () Int)\\n'\n",
      "             '(assert (or\\n'\n",
      "             '  (= in1 in0)\\n'\n",
      "             '  (= in2 in1)\\n'\n",
      "             '  (= in3 in2)\\n'\n",
      "             '  (= in4 in3)\\n'\n",
      "             '  (= in5 in4)\\n'\n",
      "             '  (= in6 in5)\\n'\n",
      "             '  (= in7 in6)\\n'\n",
      "             '  (= in8 in7)\\n'\n",
      "             '  (= in9 in8)\\n'\n",
      "             '  (= in10 in9)\\n'\n",
      "             '  (= in11 in10)\\n'\n",
      "             '  (= in12 in11)\\n'\n",
      "             '  (= in13 in12)\\n'\n",
      "             '  (= in14 in13)\\n'\n",
      "             '  (= in15 in14)\\n'\n",
      "             '  (= in16 in15)\\n'\n",
      "             '  (= in17 in16)\\n'\n",
      "             '  (= in18 in17)\\n'\n",
      "             '  (= in19 in18)\\n'\n",
      "             '  (= in20 in19)\\n'\n",
      "             '  (= in21 in20)\\n'\n",
      "             '  (= in22 in21)\\n'\n",
      "             '  (= in23 in22)\\n'\n",
      "             '  (= in24 in23)\\n'\n",
      "             '  (= in25 in24)\\n'\n",
      "             '  (= in26 in25)\\n'\n",
      "             '  (= in27 in26)\\n'\n",
      "             '  (= in28 in27)\\n'\n",
      "             '  (= in29 in28)\\n'\n",
      "             ')) \\n'\n",
      "             '(check-sat)\\n'\n",
      "             '(get-model)'}\n"
     ]
    }
   ],
   "source": [
    "pprint(java_programs[PROGRAM_NAME][\"30\"])"
   ]
  },
  {
   "cell_type": "code",
   "execution_count": 11,
   "id": "00486790",
   "metadata": {},
   "outputs": [
    {
     "data": {
      "text/plain": [
       "{'result': False, 'reason': 'A does not imply B'}"
      ]
     },
     "execution_count": 11,
     "metadata": {},
     "output_type": "execute_result"
    }
   ],
   "source": [
    "utils.check_logical_equivalence(\n",
    "    original_assertions=java_programs[PROGRAM_NAME][\"30\"][\"assertions\"],\n",
    "    generated_assertions=java_programs[PROGRAM_NAME][\"30\"][\"response\"].split(\"(declare-fun in29 () Int)\\n\")[1].split(\"(check-sat)\\n\")[0],\n",
    "    constants=java_programs[PROGRAM_NAME][\"30\"][\"constants\"]\n",
    ")"
   ]
  }
 ],
 "metadata": {
  "kernelspec": {
   "display_name": ".venv",
   "language": "python",
   "name": "python3"
  },
  "language_info": {
   "codemirror_mode": {
    "name": "ipython",
    "version": 3
   },
   "file_extension": ".py",
   "mimetype": "text/x-python",
   "name": "python",
   "nbconvert_exporter": "python",
   "pygments_lexer": "ipython3",
   "version": "3.11.4"
  }
 },
 "nbformat": 4,
 "nbformat_minor": 5
}
