{
 "cells": [
  {
   "cell_type": "code",
   "execution_count": 1,
   "id": "40fb7dc9",
   "metadata": {},
   "outputs": [],
   "source": [
    "import json\n",
    "from pprint import pprint\n",
    "import sys\n",
    "from pathlib import Path\n",
    "\n",
    "sys.path.append(str(Path('..').resolve()))\n",
    "import utils\n",
    "\n",
    "with open(\"java_programs.dict\", \"r\") as f:\n",
    "    java_programs = json.load(f)\n",
    "\n",
    "SIZES = {2,4,8,16,30}\n",
    "PROGRAM_NAME = \"TowerOfHanoi\""
   ]
  },
  {
   "cell_type": "code",
   "execution_count": 2,
   "id": "efa630ce",
   "metadata": {},
   "outputs": [
    {
     "name": "stdout",
     "output_type": "stream",
     "text": [
      "{'assertions': '(assert (and (and  ( >=  n 1)  ( <=  n 5))  ( =  n 1)))',\n",
      " 'constants': '(declare-const n Int)',\n",
      " 'response': '- Worst-case time complexity: Θ(2^n). The algorithm makes 2^n − '\n",
      "             '1 moves (T(n) = 2T(n−1) + 1), hence exponential time.\\n'\n",
      "             '\\n'\n",
      "             'Answer:\\n'\n",
      "             '(set-logic QF_LIA)\\n'\n",
      "             '(declare-const n Int)\\n'\n",
      "             '(assert (and (>= n 1) (<= n 5)))\\n'\n",
      "             '(assert (= n 2))\\n'\n",
      "             '(check-sat)\\n'\n",
      "             '(get-model)'}\n"
     ]
    }
   ],
   "source": [
    "pprint(java_programs[PROGRAM_NAME][\"2\"])"
   ]
  },
  {
   "cell_type": "code",
   "execution_count": 3,
   "id": "bfa1773e",
   "metadata": {},
   "outputs": [
    {
     "data": {
      "text/plain": [
       "{'result': False, 'reason': 'A does not imply B'}"
      ]
     },
     "execution_count": 3,
     "metadata": {},
     "output_type": "execute_result"
    }
   ],
   "source": [
    "utils.check_logical_equivalence(\n",
    "    original_assertions=java_programs[PROGRAM_NAME][\"2\"][\"assertions\"],\n",
    "    generated_assertions=java_programs[PROGRAM_NAME][\"2\"][\"response\"].split(\"(declare-const n Int)\\n\")[1].split(\"(check-sat)\\n\")[0],\n",
    "    constants=java_programs[PROGRAM_NAME][\"2\"][\"constants\"]\n",
    ")"
   ]
  },
  {
   "cell_type": "code",
   "execution_count": 4,
   "id": "7f635125",
   "metadata": {},
   "outputs": [
    {
     "name": "stdout",
     "output_type": "stream",
     "text": [
      "{'assertions': '(assert (and (and  ( >=  n 1)  ( <=  n 5))  ( =  n 1)))',\n",
      " 'constants': '(declare-const n Int)',\n",
      " 'response': '- Worst-case time complexity: O(2^n). Specifically, the number '\n",
      "             'of moves (and recursive calls) is 2^n − 1.\\n'\n",
      "             '- Space (call stack) complexity: O(n).\\n'\n",
      "             '\\n'\n",
      "             'Answer:\\n'\n",
      "             '(set-logic QF_LIA)\\n'\n",
      "             '(declare-const n Int)\\n'\n",
      "             '(assert (and (>= n 1) (<= n 5) (= n 4)))\\n'\n",
      "             '(check-sat)\\n'\n",
      "             '(get-model)'}\n"
     ]
    }
   ],
   "source": [
    "pprint(java_programs[PROGRAM_NAME][\"4\"])"
   ]
  },
  {
   "cell_type": "code",
   "execution_count": 5,
   "id": "cd89d227",
   "metadata": {},
   "outputs": [
    {
     "data": {
      "text/plain": [
       "{'result': False, 'reason': 'A does not imply B'}"
      ]
     },
     "execution_count": 5,
     "metadata": {},
     "output_type": "execute_result"
    }
   ],
   "source": [
    "utils.check_logical_equivalence(\n",
    "    original_assertions=java_programs[PROGRAM_NAME][\"4\"][\"assertions\"],\n",
    "    generated_assertions=java_programs[PROGRAM_NAME][\"4\"][\"response\"].split(\"(declare-const n Int)\\n\")[1].split(\"(check-sat)\\n\")[0],\n",
    "    constants=java_programs[PROGRAM_NAME][\"4\"][\"constants\"]\n",
    ")"
   ]
  },
  {
   "cell_type": "code",
   "execution_count": 6,
   "id": "40b9839c",
   "metadata": {},
   "outputs": [
    {
     "name": "stdout",
     "output_type": "stream",
     "text": [
      "{'assertions': '(assert (and (and  ( >=  n 1)  ( <=  n 5))  ( =  n 1)))',\n",
      " 'constants': '(declare-const n Int)',\n",
      " 'response': '- Worst-case time complexity: Θ(2^n). The algorithm makes 2^n − '\n",
      "             '1 moves and the recursion tree has 2^n − 1 calls, so time is '\n",
      "             'exponential in n.\\n'\n",
      "             '\\n'\n",
      "             'Note: In the given program, main restricts execution to 1 ≤ n ≤ '\n",
      "             '5. For n = 8, the guard causes an immediate return (constant '\n",
      "             'work). The SMT2 constraint below reflects that path (n = 8 '\n",
      "             'satisfies n > 5).\\n'\n",
      "             '\\n'\n",
      "             'Answer:\\n'\n",
      "             '(set-logic QF_LIA)\\n'\n",
      "             '(declare-fun n () Int)\\n'\n",
      "             '; Choose input n = 8\\n'\n",
      "             '(assert (= n 8))\\n'\n",
      "             '; Satisfy the program’s guard that causes early return\\n'\n",
      "             '(assert (or (< n 1) (> n 5)))\\n'\n",
      "             '(check-sat)\\n'\n",
      "             '(get-model)'}\n"
     ]
    }
   ],
   "source": [
    "pprint(java_programs[PROGRAM_NAME][\"8\"])"
   ]
  },
  {
   "cell_type": "code",
   "execution_count": 7,
   "id": "d81d1364",
   "metadata": {},
   "outputs": [
    {
     "data": {
      "text/plain": [
       "{'result': False, 'reason': 'A does not imply B'}"
      ]
     },
     "execution_count": 7,
     "metadata": {},
     "output_type": "execute_result"
    }
   ],
   "source": [
    "utils.check_logical_equivalence(\n",
    "    original_assertions=java_programs[PROGRAM_NAME][\"8\"][\"assertions\"],\n",
    "    generated_assertions=java_programs[PROGRAM_NAME][\"8\"][\"response\"].split(\"(declare-fun n () Int)\\n\")[1].split(\"(check-sat)\\n\")[0],\n",
    "    constants=java_programs[PROGRAM_NAME][\"8\"][\"constants\"]\n",
    ")\n"
   ]
  },
  {
   "cell_type": "code",
   "execution_count": 8,
   "id": "aac13741",
   "metadata": {},
   "outputs": [
    {
     "name": "stdout",
     "output_type": "stream",
     "text": [
      "{'assertions': '(assert (and (and  ( >=  n 1)  ( <=  n 5))  ( =  n 1)))',\n",
      " 'constants': '(declare-const n Int)',\n",
      " 'response': '- Worst-case time complexity: O(2^n) (Tower of Hanoi makes 2^n − '\n",
      "             '1 moves). Note: in this specific program, due to the guard (n < '\n",
      "             '1 || n > 5), the practical worst case is bounded to n=5 (a '\n",
      "             'constant), but asymptotically the algorithm is exponential.\\n'\n",
      "             '\\n'\n",
      "             '- For input n = 16, the program immediately returns because n > '\n",
      "             '5. The path condition is (n > 5). An SMT2 encoding that captures '\n",
      "             'this input and path is:\\n'\n",
      "             '\\n'\n",
      "             'Answer:\\n'\n",
      "             '(set-logic QF_LIA)\\n'\n",
      "             '(declare-const n Int)\\n'\n",
      "             '(assert (= n 16))\\n'\n",
      "             '(assert (or (< n 1) (> n 5)))\\n'\n",
      "             '(check-sat)\\n'\n",
      "             '(get-model)'}\n"
     ]
    }
   ],
   "source": [
    "pprint(java_programs[PROGRAM_NAME][\"16\"])"
   ]
  },
  {
   "cell_type": "code",
   "execution_count": 9,
   "id": "752c539d",
   "metadata": {},
   "outputs": [
    {
     "data": {
      "text/plain": [
       "{'result': False, 'reason': 'A does not imply B'}"
      ]
     },
     "execution_count": 9,
     "metadata": {},
     "output_type": "execute_result"
    }
   ],
   "source": [
    "utils.check_logical_equivalence(\n",
    "    original_assertions=java_programs[PROGRAM_NAME][\"16\"][\"assertions\"],\n",
    "    generated_assertions=java_programs[PROGRAM_NAME][\"16\"][\"response\"].split(\"(declare-const n Int)\\n\")[1].split(\"(check-sat)\\n\")[0],\n",
    "    constants=java_programs[PROGRAM_NAME][\"16\"][\"constants\"]\n",
    ")"
   ]
  },
  {
   "cell_type": "code",
   "execution_count": 10,
   "id": "e345c3f7",
   "metadata": {},
   "outputs": [
    {
     "name": "stdout",
     "output_type": "stream",
     "text": [
      "{'assertions': '(assert (and (and  ( >=  n 1)  ( <=  n 5))  ( =  n 1)))',\n",
      " 'constants': '(declare-const n Int)',\n",
      " 'response': '- Worst-case time complexity:\\n'\n",
      "             '  - The Tower of Hanoi procedure does T(n) = 2T(n−1) + O(1) '\n",
      "             'moves, so T(n) = 2^n − 1 ⇒ Θ(2^n).\\n'\n",
      "             '  - In this specific program, since n is restricted to 1..5, any '\n",
      "             'single execution is bounded by a constant (maximum 31 moves), '\n",
      "             'i.e., O(1) under that guard. Conceptually, the algorithm’s '\n",
      "             'complexity remains Θ(2^n) in n.\\n'\n",
      "             '\\n'\n",
      "             '- SMT2 constraint for input n = 30:\\n'\n",
      "             '  - The program takes the early return branch because n > 5. The '\n",
      "             'path condition is (or (< n 1) (> n 5)). With n fixed to 30, the '\n",
      "             'constraint is satisfiable.\\n'\n",
      "             '\\n'\n",
      "             'Answer:\\n'\n",
      "             '(set-logic QF_LIA)\\n'\n",
      "             '(declare-const n Int)\\n'\n",
      "             '(assert (= n 30))\\n'\n",
      "             '(assert (or (< n 1) (> n 5)))\\n'\n",
      "             '(check-sat)\\n'\n",
      "             '(get-model)'}\n"
     ]
    }
   ],
   "source": [
    "pprint(java_programs[PROGRAM_NAME][\"30\"])"
   ]
  },
  {
   "cell_type": "code",
   "execution_count": 11,
   "id": "c52b4a12",
   "metadata": {},
   "outputs": [
    {
     "data": {
      "text/plain": [
       "{'result': False, 'reason': 'A does not imply B'}"
      ]
     },
     "execution_count": 11,
     "metadata": {},
     "output_type": "execute_result"
    }
   ],
   "source": [
    "utils.check_logical_equivalence(\n",
    "    original_assertions=java_programs[PROGRAM_NAME][\"30\"][\"assertions\"],\n",
    "    generated_assertions=java_programs[PROGRAM_NAME][\"30\"][\"response\"].split(\"(declare-const n Int)\\n\")[1].split(\"(check-sat)\\n\")[0],\n",
    "    constants=java_programs[PROGRAM_NAME][\"30\"][\"constants\"]\n",
    ")"
   ]
  }
 ],
 "metadata": {
  "kernelspec": {
   "display_name": ".venv",
   "language": "python",
   "name": "python3"
  },
  "language_info": {
   "codemirror_mode": {
    "name": "ipython",
    "version": 3
   },
   "file_extension": ".py",
   "mimetype": "text/x-python",
   "name": "python",
   "nbconvert_exporter": "python",
   "pygments_lexer": "ipython3",
   "version": "3.11.4"
  }
 },
 "nbformat": 4,
 "nbformat_minor": 5
}
