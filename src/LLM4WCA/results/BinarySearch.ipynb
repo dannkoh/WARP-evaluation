{
 "cells": [
  {
   "cell_type": "code",
   "execution_count": 1,
   "id": "612a6cc8",
   "metadata": {},
   "outputs": [],
   "source": [
    "import json\n",
    "from pprint import pprint\n",
    "import sys\n",
    "from pathlib import Path\n",
    "\n",
    "sys.path.append(str(Path('..').resolve()))\n",
    "import utils\n",
    "\n",
    "with open(\"java_programs.dict\", \"r\") as f:\n",
    "    java_programs = json.load(f)\n",
    "\n",
    "SIZES = {2,4,8,16,30}\n",
    "PROGRAM_NAME = \"BinarySearch\""
   ]
  },
  {
   "cell_type": "code",
   "execution_count": 2,
   "id": "0a2fb543",
   "metadata": {},
   "outputs": [
    {
     "name": "stdout",
     "output_type": "stream",
     "text": [
      "{'assertions': '(assert (and (and (and (not ( = in0 t))  ( <  in0 t)) (not ( = '\n",
      "               'in1 t)))  ( <  in1 t)))',\n",
      " 'constants': '(declare-const t Int)\\n'\n",
      "              '(declare-const in0 Int)\\n'\n",
      "              '(declare-const in1 Int)',\n",
      " 'response': '- Worst-case time complexity (concrete execution): O(log N) '\n",
      "             'comparisons/iterations and O(1) extra space. The loop halves the '\n",
      "             'search range each iteration.\\n'\n",
      "             '\\n'\n",
      "             '- SMT2 constraint for input size n = 2 (arr = [in0, in1], target '\n",
      "             't), driving the worst-case path (two iterations) and not finding '\n",
      "             'the target (assuming ascending order for semantic correctness of '\n",
      "             'binary search):\\n'\n",
      "             '\\n'\n",
      "             'Answer:\\n'\n",
      "             '(set-logic QF_LIA)\\n'\n",
      "             '(declare-fun in0 () Int)\\n'\n",
      "             '(declare-fun in1 () Int)\\n'\n",
      "             '(declare-fun t () Int)\\n'\n",
      "             '; array of size 2 is sorted ascending\\n'\n",
      "             '(assert (<= in0 in1))\\n'\n",
      "             '; 1st iteration: mid=0, arr[0] < t  => low becomes 1\\n'\n",
      "             '(assert (< in0 t))\\n'\n",
      "             '; 2nd iteration: mid=1, arr[1] < t  => low becomes 2, loop exits '\n",
      "             'with -1\\n'\n",
      "             '(assert (< in1 t))\\n'\n",
      "             '(check-sat)\\n'\n",
      "             '(get-model)'}\n"
     ]
    }
   ],
   "source": [
    "pprint(java_programs[PROGRAM_NAME][\"2\"])"
   ]
  },
  {
   "cell_type": "code",
   "execution_count": 3,
   "id": "02aac6da",
   "metadata": {},
   "outputs": [
    {
     "data": {
      "text/plain": [
       "{'result': False, 'reason': 'A does not imply B'}"
      ]
     },
     "execution_count": 3,
     "metadata": {},
     "output_type": "execute_result"
    }
   ],
   "source": [
    "utils.check_logical_equivalence(\n",
    "    original_assertions=java_programs[PROGRAM_NAME][\"2\"][\"assertions\"],\n",
    "    generated_assertions=java_programs[PROGRAM_NAME][\"2\"][\"response\"].split(\"(declare-fun t () Int)\\n\")[1].split(\"(check-sat)\\n\")[0],\n",
    "    constants=java_programs[PROGRAM_NAME][\"2\"][\"constants\"]\n",
    ")"
   ]
  },
  {
   "cell_type": "code",
   "execution_count": 4,
   "id": "c60438d4",
   "metadata": {},
   "outputs": [
    {
     "name": "stdout",
     "output_type": "stream",
     "text": [
      "{'assertions': '(assert (and (and (and (and (and (not ( = in1 t))  ( <  in1 '\n",
      "               't)) (not ( = in2 t)))  ( <  in2 t)) (not ( = in3 t)))  ( <  '\n",
      "               'in3 t)))',\n",
      " 'constants': '(declare-const t Int)\\n'\n",
      "              '(declare-const in2 Int)\\n'\n",
      "              '(declare-const in1 Int)\\n'\n",
      "              '(declare-const in3 Int)',\n",
      " 'response': '- Worst-case time complexity: O(log n)\\n'\n",
      "             '  - Each loop iteration halves the search interval; in the worst '\n",
      "             'case you perform about floor(log2(n)) + 1 iterations.\\n'\n",
      "             '\\n'\n",
      "             'SMT2 constraints for n = 4 (variables: in0, in1, in2, in3, t). A '\n",
      "             'worst-case path (3 iterations) that ends with “not found” is '\n",
      "             'obtained by forcing the search to always go to the larger '\n",
      "             'remaining half and never hit equality:\\n'\n",
      "             '- Iteration 1 (mid=1): in1 < t → go right to [2..3]\\n'\n",
      "             '- Iteration 2 (mid=2): in2 < t → go right to [3..3]\\n'\n",
      "             '- Iteration 3 (mid=3): in3 < t → low becomes 4, loop exits, '\n",
      "             'returns -1\\n'\n",
      "             '\\n'\n",
      "             'Complete SMT2 script:\\n'\n",
      "             '(set-logic QF_LIA)\\n'\n",
      "             '(declare-fun in0 () Int)\\n'\n",
      "             '(declare-fun in1 () Int)\\n'\n",
      "             '(declare-fun in2 () Int)\\n'\n",
      "             '(declare-fun in3 () Int)\\n'\n",
      "             '(declare-fun t () Int)\\n'\n",
      "             '(assert (and (< in1 t) (< in2 t) (< in3 t)))\\n'\n",
      "             '(check-sat)\\n'\n",
      "             '(get-model)\\n'\n",
      "             '\\n'\n",
      "             'Answer: (assert (and (< in1 t) (< in2 t) (< in3 t)))'}\n"
     ]
    }
   ],
   "source": [
    "pprint(java_programs[PROGRAM_NAME][\"4\"])"
   ]
  },
  {
   "cell_type": "code",
   "execution_count": 5,
   "id": "74be9755",
   "metadata": {},
   "outputs": [
    {
     "data": {
      "text/plain": [
       "{'result': True}"
      ]
     },
     "execution_count": 5,
     "metadata": {},
     "output_type": "execute_result"
    }
   ],
   "source": [
    "utils.check_logical_equivalence(\n",
    "    original_assertions=java_programs[PROGRAM_NAME][\"4\"][\"assertions\"],\n",
    "    generated_assertions=java_programs[PROGRAM_NAME][\"4\"][\"response\"].split(\"(declare-fun t () Int)\\n\")[1].split(\"(check-sat)\\n\")[0],\n",
    "    constants=java_programs[PROGRAM_NAME][\"4\"][\"constants\"]\n",
    ")"
   ]
  },
  {
   "cell_type": "code",
   "execution_count": 6,
   "id": "19fa1f18",
   "metadata": {},
   "outputs": [
    {
     "name": "stdout",
     "output_type": "stream",
     "text": [
      "{'assertions': '(assert (and (and (and (and (and (and (and (not ( = in3 t))  ( '\n",
      "               '<  in3 t)) (not ( = in5 t)))  ( <  in5 t)) (not ( = in6 t)))  '\n",
      "               '( <  in6 t)) (not ( = in7 t)))  ( <  in7 t)))',\n",
      " 'constants': '(declare-const in6 Int)\\n'\n",
      "              '(declare-const in5 Int)\\n'\n",
      "              '(declare-const in7 Int)\\n'\n",
      "              '(declare-const t Int)\\n'\n",
      "              '(declare-const in3 Int)',\n",
      " 'response': '- Worst-case time complexity:\\n'\n",
      "             '  - binarySearch method: O(log n)\\n'\n",
      "             '  - Whole program (including array initialization in main): O(n) '\n",
      "             '+ O(log n) = O(n)\\n'\n",
      "             '\\n'\n",
      "             'Answer:\\n'\n",
      "             '(set-logic QF_LIA)\\n'\n",
      "             '(declare-fun in0 () Int)\\n'\n",
      "             '(declare-fun in1 () Int)\\n'\n",
      "             '(declare-fun in2 () Int)\\n'\n",
      "             '(declare-fun in3 () Int)\\n'\n",
      "             '(declare-fun in4 () Int)\\n'\n",
      "             '(declare-fun in5 () Int)\\n'\n",
      "             '(declare-fun in6 () Int)\\n'\n",
      "             '(declare-fun in7 () Int)\\n'\n",
      "             '(declare-fun t () Int)\\n'\n",
      "             '; Path for n=8 (indices 0..7):\\n'\n",
      "             '; mids visited: 3 -> 5 -> 6 -> 7\\n'\n",
      "             '; Force the \"<\" branch each time and avoid equality to maximize '\n",
      "             'iterations and end with not found\\n'\n",
      "             '(assert (< in3 t))\\n'\n",
      "             '(assert (< in5 t))\\n'\n",
      "             '(assert (< in6 t))\\n'\n",
      "             '(assert (< in7 t))\\n'\n",
      "             '(check-sat)\\n'\n",
      "             '(get-model)'}\n"
     ]
    }
   ],
   "source": [
    "pprint(java_programs[PROGRAM_NAME][\"8\"])"
   ]
  },
  {
   "cell_type": "code",
   "execution_count": 7,
   "id": "48a0aaf2",
   "metadata": {},
   "outputs": [
    {
     "data": {
      "text/plain": [
       "{'result': True}"
      ]
     },
     "execution_count": 7,
     "metadata": {},
     "output_type": "execute_result"
    }
   ],
   "source": [
    "utils.check_logical_equivalence(\n",
    "    original_assertions=java_programs[PROGRAM_NAME][\"8\"][\"assertions\"],\n",
    "    generated_assertions=java_programs[PROGRAM_NAME][\"8\"][\"response\"].split('iterations and end with not found\\n')[1].split(\"(check-sat)\\n\")[0],\n",
    "    constants=java_programs[PROGRAM_NAME][\"8\"][\"constants\"]\n",
    ")"
   ]
  },
  {
   "cell_type": "code",
   "execution_count": 8,
   "id": "b3285165",
   "metadata": {},
   "outputs": [
    {
     "name": "stdout",
     "output_type": "stream",
     "text": [
      "{'assertions': '(assert (and (and (and (and (and (and (and (and (and (not ( = '\n",
      "               'in7 t))  ( <  in7 t)) (not ( = in11 t)))  ( <  in11 t)) (not ( '\n",
      "               '= in13 t)))  ( <  in13 t)) (not ( = in14 t)))  ( <  in14 t)) '\n",
      "               '(not ( = in15 t)))  ( <  in15 t)))',\n",
      " 'constants': '(declare-const in7 Int)\\n'\n",
      "              '(declare-const t Int)\\n'\n",
      "              '(declare-const in11 Int)\\n'\n",
      "              '(declare-const in13 Int)\\n'\n",
      "              '(declare-const in15 Int)\\n'\n",
      "              '(declare-const in14 Int)',\n",
      " 'response': '- Worst-case time complexity:\\n'\n",
      "             '  - binarySearch alone: O(log N) comparisons/iterations. For '\n",
      "             'N=16, at most 5 iterations.\\n'\n",
      "             '  - Whole program (including building the symbolic array): O(N) '\n",
      "             'due to the initialization loop, i.e., O(N + log N) = O(N).\\n'\n",
      "             '\\n'\n",
      "             '- SMT2 constraint for n = 16 that forces the worst-case path '\n",
      "             '(not found after 5 iterations), choosing the branch arr[mid] < t '\n",
      "             'at each step (mids: 7, 11, 13, 14, 15):\\n'\n",
      "             '\\n'\n",
      "             'Answer:\\n'\n",
      "             '(set-logic QF_LIA)\\n'\n",
      "             '; n = 16\\n'\n",
      "             '(declare-fun in0 () Int)\\n'\n",
      "             '(declare-fun in1 () Int)\\n'\n",
      "             '(declare-fun in2 () Int)\\n'\n",
      "             '(declare-fun in3 () Int)\\n'\n",
      "             '(declare-fun in4 () Int)\\n'\n",
      "             '(declare-fun in5 () Int)\\n'\n",
      "             '(declare-fun in6 () Int)\\n'\n",
      "             '(declare-fun in7 () Int)\\n'\n",
      "             '(declare-fun in8 () Int)\\n'\n",
      "             '(declare-fun in9 () Int)\\n'\n",
      "             '(declare-fun in10 () Int)\\n'\n",
      "             '(declare-fun in11 () Int)\\n'\n",
      "             '(declare-fun in12 () Int)\\n'\n",
      "             '(declare-fun in13 () Int)\\n'\n",
      "             '(declare-fun in14 () Int)\\n'\n",
      "             '(declare-fun in15 () Int)\\n'\n",
      "             '(declare-fun t () Int)\\n'\n",
      "             '; Force the right-branch each time to get 5 iterations and \"not '\n",
      "             'found\"\\n'\n",
      "             '(assert (< in7 t))\\n'\n",
      "             '(assert (< in11 t))\\n'\n",
      "             '(assert (< in13 t))\\n'\n",
      "             '(assert (< in14 t))\\n'\n",
      "             '(assert (< in15 t))\\n'\n",
      "             '(check-sat)'}\n"
     ]
    }
   ],
   "source": [
    "pprint(java_programs[PROGRAM_NAME][\"16\"])"
   ]
  },
  {
   "cell_type": "code",
   "execution_count": 9,
   "id": "0ab4fe0b",
   "metadata": {},
   "outputs": [
    {
     "data": {
      "text/plain": [
       "{'result': True}"
      ]
     },
     "execution_count": 9,
     "metadata": {},
     "output_type": "execute_result"
    }
   ],
   "source": [
    "utils.check_logical_equivalence(\n",
    "    original_assertions=java_programs[PROGRAM_NAME][\"16\"][\"assertions\"],\n",
    "    generated_assertions=java_programs[PROGRAM_NAME][\"16\"][\"response\"].split('found\"\\n')[1].split(\"(check-sat)\\n\")[0],\n",
    "    constants=java_programs[PROGRAM_NAME][\"16\"][\"constants\"]\n",
    ")"
   ]
  },
  {
   "cell_type": "code",
   "execution_count": 10,
   "id": "fc7736d0",
   "metadata": {},
   "outputs": [
    {
     "name": "stdout",
     "output_type": "stream",
     "text": [
      "{'assertions': '(assert (and (and (and (and (and (and (and (and (and (not ( = '\n",
      "               'in14 t))  ( <  in14 t)) (not ( = in22 t)))  ( <  in22 t)) (not '\n",
      "               '( = in26 t)))  ( <  in26 t)) (not ( = in28 t)))  ( <  in28 t)) '\n",
      "               '(not ( = in29 t)))  ( <  in29 t)))',\n",
      " 'constants': '(declare-const t Int)\\n'\n",
      "              '(declare-const in22 Int)\\n'\n",
      "              '(declare-const in26 Int)\\n'\n",
      "              '(declare-const in14 Int)\\n'\n",
      "              '(declare-const in28 Int)\\n'\n",
      "              '(declare-const in29 Int)',\n",
      " 'response': '- Worst-case time complexity of binarySearch: O(log n).\\n'\n",
      "             '- Overall worst-case time complexity of the whole program '\n",
      "             '(including creating N symbolic integers): O(n) + O(log n) = '\n",
      "             'O(n).\\n'\n",
      "             '\\n'\n",
      "             'Answer:\\n'\n",
      "             '(set-logic QF_LIA)\\n'\n",
      "             '\\n'\n",
      "             '; Declarations for n = 30\\n'\n",
      "             '(declare-fun in0 () Int)\\n'\n",
      "             '(declare-fun in1 () Int)\\n'\n",
      "             '(declare-fun in2 () Int)\\n'\n",
      "             '(declare-fun in3 () Int)\\n'\n",
      "             '(declare-fun in4 () Int)\\n'\n",
      "             '(declare-fun in5 () Int)\\n'\n",
      "             '(declare-fun in6 () Int)\\n'\n",
      "             '(declare-fun in7 () Int)\\n'\n",
      "             '(declare-fun in8 () Int)\\n'\n",
      "             '(declare-fun in9 () Int)\\n'\n",
      "             '(declare-fun in10 () Int)\\n'\n",
      "             '(declare-fun in11 () Int)\\n'\n",
      "             '(declare-fun in12 () Int)\\n'\n",
      "             '(declare-fun in13 () Int)\\n'\n",
      "             '(declare-fun in14 () Int)\\n'\n",
      "             '(declare-fun in15 () Int)\\n'\n",
      "             '(declare-fun in16 () Int)\\n'\n",
      "             '(declare-fun in17 () Int)\\n'\n",
      "             '(declare-fun in18 () Int)\\n'\n",
      "             '(declare-fun in19 () Int)\\n'\n",
      "             '(declare-fun in20 () Int)\\n'\n",
      "             '(declare-fun in21 () Int)\\n'\n",
      "             '(declare-fun in22 () Int)\\n'\n",
      "             '(declare-fun in23 () Int)\\n'\n",
      "             '(declare-fun in24 () Int)\\n'\n",
      "             '(declare-fun in25 () Int)\\n'\n",
      "             '(declare-fun in26 () Int)\\n'\n",
      "             '(declare-fun in27 () Int)\\n'\n",
      "             '(declare-fun in28 () Int)\\n'\n",
      "             '(declare-fun in29 () Int)\\n'\n",
      "             '(declare-fun t () Int)\\n'\n",
      "             '\\n'\n",
      "             '; Array sorted strictly increasing (sufficient for binary search '\n",
      "             'semantics)\\n'\n",
      "             '(assert (< in0 in1))\\n'\n",
      "             '(assert (< in1 in2))\\n'\n",
      "             '(assert (< in2 in3))\\n'\n",
      "             '(assert (< in3 in4))\\n'\n",
      "             '(assert (< in4 in5))\\n'\n",
      "             '(assert (< in5 in6))\\n'\n",
      "             '(assert (< in6 in7))\\n'\n",
      "             '(assert (< in7 in8))\\n'\n",
      "             '(assert (< in8 in9))\\n'\n",
      "             '(assert (< in9 in10))\\n'\n",
      "             '(assert (< in10 in11))\\n'\n",
      "             '(assert (< in11 in12))\\n'\n",
      "             '(assert (< in12 in13))\\n'\n",
      "             '(assert (< in13 in14))\\n'\n",
      "             '(assert (< in14 in15))\\n'\n",
      "             '(assert (< in15 in16))\\n'\n",
      "             '(assert (< in16 in17))\\n'\n",
      "             '(assert (< in17 in18))\\n'\n",
      "             '(assert (< in18 in19))\\n'\n",
      "             '(assert (< in19 in20))\\n'\n",
      "             '(assert (< in20 in21))\\n'\n",
      "             '(assert (< in21 in22))\\n'\n",
      "             '(assert (< in22 in23))\\n'\n",
      "             '(assert (< in23 in24))\\n'\n",
      "             '(assert (< in24 in25))\\n'\n",
      "             '(assert (< in25 in26))\\n'\n",
      "             '(assert (< in26 in27))\\n'\n",
      "             '(assert (< in27 in28))\\n'\n",
      "             '(assert (< in28 in29))\\n'\n",
      "             '\\n'\n",
      "             '; Target not present (forces worst-case search depth and return '\n",
      "             '-1)\\n'\n",
      "             '(assert (distinct t in0 in1 in2 in3 in4 in5 in6 in7 in8 in9 in10 '\n",
      "             'in11 in12 in13 in14 in15 in16 in17 in18 in19 in20 in21 in22 in23 '\n",
      "             'in24 in25 in26 in27 in28 in29))\\n'\n",
      "             '\\n'\n",
      "             '(check-sat)\\n'\n",
      "             '(get-model)'}\n"
     ]
    }
   ],
   "source": [
    "pprint(java_programs[PROGRAM_NAME][\"30\"])"
   ]
  },
  {
   "cell_type": "code",
   "execution_count": 11,
   "id": "ab976915",
   "metadata": {},
   "outputs": [
    {
     "data": {
      "text/plain": [
       "{'result': False, 'reason': 'A does not imply B'}"
      ]
     },
     "execution_count": 11,
     "metadata": {},
     "output_type": "execute_result"
    }
   ],
   "source": [
    "utils.check_logical_equivalence(\n",
    "    original_assertions=java_programs[PROGRAM_NAME][\"30\"][\"assertions\"],\n",
    "    generated_assertions=java_programs[PROGRAM_NAME][\"30\"][\"response\"].split('semantics)\\n')[1].split(\"(check-sat)\\n\")[0],\n",
    "    constants=java_programs[PROGRAM_NAME][\"30\"][\"response\"].split(\"Answer:\\n\")[1].split(\"; Array sorted strictly increasing (sufficient for binary search\")[0]\n",
    ")"
   ]
  }
 ],
 "metadata": {
  "kernelspec": {
   "display_name": ".venv",
   "language": "python",
   "name": "python3"
  },
  "language_info": {
   "codemirror_mode": {
    "name": "ipython",
    "version": 3
   },
   "file_extension": ".py",
   "mimetype": "text/x-python",
   "name": "python",
   "nbconvert_exporter": "python",
   "pygments_lexer": "ipython3",
   "version": "3.11.4"
  }
 },
 "nbformat": 4,
 "nbformat_minor": 5
}
