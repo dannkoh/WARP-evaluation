{
 "cells": [
  {
   "cell_type": "code",
   "execution_count": 1,
   "id": "a92cae2b",
   "metadata": {},
   "outputs": [],
   "source": [
    "import json\n",
    "from pprint import pprint\n",
    "import sys\n",
    "from pathlib import Path\n",
    "\n",
    "sys.path.append(str(Path('..').resolve()))\n",
    "import utils\n",
    "\n",
    "with open(\"java_programs.dict\", \"r\") as f:\n",
    "    java_programs = json.load(f)\n",
    "\n",
    "SIZES = {2,4,8,16,30}\n",
    "PROGRAM_NAME = \"GreedyStepper\""
   ]
  },
  {
   "cell_type": "code",
   "execution_count": 2,
   "id": "7d4f6b72",
   "metadata": {},
   "outputs": [
    {
     "name": "stdout",
     "output_type": "stream",
     "text": [
      "{'assertions': '(assert (and (not ( = ( mod  in0 2) 0)) (not ( = ( mod  in1 2) '\n",
      "               '0))))',\n",
      " 'constants': '(declare-const in0 Int)\\n(declare-const in1 Int)',\n",
      " 'response': 'Worst-case time complexity: Θ(n)\\n'\n",
      "             '\\n'\n",
      "             'Reasoning:\\n'\n",
      "             '- The while loop advances by 1 when arr[i] is odd (or at the '\n",
      "             'last index), and by 2 when arr[i] is even and i+1 < n.\\n'\n",
      "             '- To maximize iterations (worst case), choose arr[i] odd for all '\n",
      "             'i from 0 to n-2, yielding steps = n.\\n'\n",
      "             '- The final for-loop runs 100·steps = 100n iterations, each '\n",
      "             'O(1).\\n'\n",
      "             '- Total worst-case is Θ(n).\\n'\n",
      "             '\\n'\n",
      "             'Worst-case input condition:\\n'\n",
      "             '- For general n: for all i in [0, n-2], arr[i] is odd.\\n'\n",
      "             '- For n = 2: arr[0] is odd; arr[1] is unconstrained.\\n'\n",
      "             '\\n'\n",
      "             'Answer:\\n'\n",
      "             '(set-logic QF_NIA)\\n'\n",
      "             '(declare-const in0 Int)\\n'\n",
      "             '(declare-const in1 Int)\\n'\n",
      "             '(assert (= (mod in0 2) 1))'}\n"
     ]
    }
   ],
   "source": [
    "pprint(java_programs[PROGRAM_NAME][\"2\"])"
   ]
  },
  {
   "cell_type": "code",
   "execution_count": 3,
   "id": "2166e8ac",
   "metadata": {},
   "outputs": [
    {
     "data": {
      "text/plain": [
       "{'result': False, 'reason': 'B does not imply A'}"
      ]
     },
     "execution_count": 3,
     "metadata": {},
     "output_type": "execute_result"
    }
   ],
   "source": [
    "utils.check_logical_equivalence(\n",
    "    original_assertions=java_programs[PROGRAM_NAME][\"2\"][\"assertions\"],\n",
    "    generated_assertions=java_programs[PROGRAM_NAME][\"2\"][\"response\"].split(\"(declare-const in1 Int)\\n\")[1].split(\"(check-sat)\\n\")[0],\n",
    "    constants=java_programs[PROGRAM_NAME][\"2\"][\"constants\"]\n",
    ")"
   ]
  },
  {
   "cell_type": "code",
   "execution_count": 4,
   "id": "f86d3ea6",
   "metadata": {},
   "outputs": [
    {
     "name": "stdout",
     "output_type": "stream",
     "text": [
      "{'assertions': '(assert (and (and (and (not ( = ( mod  in0 2) 0)) (not ( = ( '\n",
      "               'mod  in1 2) 0))) (not ( = ( mod  in2 2) 0))) (not ( = ( mod  '\n",
      "               'in3 2) 0))))',\n",
      " 'constants': '(declare-const in0 Int)\\n'\n",
      "              '(declare-const in2 Int)\\n'\n",
      "              '(declare-const in1 Int)\\n'\n",
      "              '(declare-const in3 Int)',\n",
      " 'response': '- Worst-case time complexity: O(n) (linear). Explanation: the '\n",
      "             'while-loop advances by at least 1 each iteration, so it runs at '\n",
      "             'most n times. The cost loop runs 100·steps times, with steps ≤ '\n",
      "             'n, so overall time is linear. Worst-case occurs when arr[0..n-2] '\n",
      "             'are odd, forcing single-step advances.\\n'\n",
      "             '\\n'\n",
      "             '- SMT2 constraint for n = 4 (forcing the worst-case path, i.e., '\n",
      "             'single-step at i = 0, 1, 2):\\n'\n",
      "             'Answer:\\n'\n",
      "             '(set-logic QF_NIA)\\n'\n",
      "             '(declare-fun in0 () Int)\\n'\n",
      "             '(declare-fun in1 () Int)\\n'\n",
      "             '(declare-fun in2 () Int)\\n'\n",
      "             '(declare-fun in3 () Int)\\n'\n",
      "             '(assert (= (mod in0 2) 1))\\n'\n",
      "             '(assert (= (mod in1 2) 1))\\n'\n",
      "             '(assert (= (mod in2 2) 1))'}\n"
     ]
    }
   ],
   "source": [
    "pprint(java_programs[PROGRAM_NAME][\"4\"])"
   ]
  },
  {
   "cell_type": "code",
   "execution_count": 5,
   "id": "fa7962e3",
   "metadata": {},
   "outputs": [
    {
     "data": {
      "text/plain": [
       "{'result': False, 'reason': 'B does not imply A'}"
      ]
     },
     "execution_count": 5,
     "metadata": {},
     "output_type": "execute_result"
    }
   ],
   "source": [
    "utils.check_logical_equivalence(\n",
    "    original_assertions=java_programs[PROGRAM_NAME][\"4\"][\"assertions\"],\n",
    "    generated_assertions=java_programs[PROGRAM_NAME][\"4\"][\"response\"].split(\"(declare-fun in3 () Int)\\n\")[1].split(\"(check-sat)\\n\")[0],\n",
    "    constants=java_programs[PROGRAM_NAME][\"4\"][\"constants\"]\n",
    ")"
   ]
  },
  {
   "cell_type": "code",
   "execution_count": 6,
   "id": "b87cf470",
   "metadata": {},
   "outputs": [
    {
     "name": "stdout",
     "output_type": "stream",
     "text": [
      "{'assertions': '(assert (and (and (and (and (and (and (and (not ( = ( mod  in0 '\n",
      "               '2) 0)) (not ( = ( mod  in1 2) 0))) (not ( = ( mod  in2 2) 0))) '\n",
      "               '(not ( = ( mod  in3 2) 0))) (not ( = ( mod  in4 2) 0))) (not ( '\n",
      "               '= ( mod  in5 2) 0))) (not ( = ( mod  in6 2) 0))) (not ( = ( '\n",
      "               'mod  in7 2) 0))))',\n",
      " 'constants': '(declare-const in6 Int)\\n'\n",
      "              '(declare-const in5 Int)\\n'\n",
      "              '(declare-const in7 Int)\\n'\n",
      "              '(declare-const in0 Int)\\n'\n",
      "              '(declare-const in2 Int)\\n'\n",
      "              '(declare-const in1 Int)\\n'\n",
      "              '(declare-const in4 Int)\\n'\n",
      "              '(declare-const in3 Int)',\n",
      " 'response': 'Worst-case time complexity: Theta(n)\\n'\n",
      "             '\\n'\n",
      "             'Reasoning:\\n'\n",
      "             '- The while-loop advances by 1 when arr[i] is odd (or when i is '\n",
      "             'at the last index). To maximize the number of iterations, force '\n",
      "             'single-step moves for all i where i + 1 < n. That yields steps = '\n",
      "             'n.\\n'\n",
      "             '- The trailing loop runs steps * 100 iterations, which is 100n '\n",
      "             'in the worst case. Constant factors do not change asymptotic '\n",
      "             'complexity, so overall time is linear.\\n'\n",
      "             '\\n'\n",
      "             'SMT2 constraint for n = 8 (force worst-case path by making '\n",
      "             'in0..in6 odd; in7 unconstrained):\\n'\n",
      "             '\\n'\n",
      "             'Answer:\\n'\n",
      "             '(set-logic QF_NIA)\\n'\n",
      "             '(declare-const in0 Int)\\n'\n",
      "             '(declare-const in1 Int)\\n'\n",
      "             '(declare-const in2 Int)\\n'\n",
      "             '(declare-const in3 Int)\\n'\n",
      "             '(declare-const in4 Int)\\n'\n",
      "             '(declare-const in5 Int)\\n'\n",
      "             '(declare-const in6 Int)\\n'\n",
      "             '(declare-const in7 Int)\\n'\n",
      "             '(assert (not (= (mod in0 2) 0)))\\n'\n",
      "             '(assert (not (= (mod in1 2) 0)))\\n'\n",
      "             '(assert (not (= (mod in2 2) 0)))\\n'\n",
      "             '(assert (not (= (mod in3 2) 0)))\\n'\n",
      "             '(assert (not (= (mod in4 2) 0)))\\n'\n",
      "             '(assert (not (= (mod in5 2) 0)))\\n'\n",
      "             '(assert (not (= (mod in6 2) 0)))\\n'\n",
      "             '(check-sat)\\n'\n",
      "             '(get-model)'}\n"
     ]
    }
   ],
   "source": [
    "pprint(java_programs[PROGRAM_NAME][\"8\"])"
   ]
  },
  {
   "cell_type": "code",
   "execution_count": 7,
   "id": "982e0585",
   "metadata": {},
   "outputs": [
    {
     "data": {
      "text/plain": [
       "{'result': False, 'reason': 'B does not imply A'}"
      ]
     },
     "execution_count": 7,
     "metadata": {},
     "output_type": "execute_result"
    }
   ],
   "source": [
    "utils.check_logical_equivalence(\n",
    "    original_assertions=java_programs[PROGRAM_NAME][\"8\"][\"assertions\"],\n",
    "    generated_assertions=java_programs[PROGRAM_NAME][\"8\"][\"response\"].split(\"(declare-const in7 Int)\\n\")[1].split(\"(check-sat)\\n\")[0],\n",
    "    constants=java_programs[PROGRAM_NAME][\"8\"][\"constants\"]\n",
    ")"
   ]
  },
  {
   "cell_type": "code",
   "execution_count": 8,
   "id": "95dfd81c",
   "metadata": {},
   "outputs": [
    {
     "name": "stdout",
     "output_type": "stream",
     "text": [
      "{'assertions': '(assert (and (and (and (and (and (and (and (and (and (and (and '\n",
      "               '(and (and (and (and (not ( = ( mod  in0 2) 0)) (not ( = ( mod  '\n",
      "               'in1 2) 0))) (not ( = ( mod  in2 2) 0))) (not ( = ( mod  in3 2) '\n",
      "               '0))) (not ( = ( mod  in4 2) 0))) (not ( = ( mod  in5 2) 0))) '\n",
      "               '(not ( = ( mod  in6 2) 0))) (not ( = ( mod  in7 2) 0))) (not ( '\n",
      "               '= ( mod  in8 2) 0))) (not ( = ( mod  in9 2) 0))) (not ( = ( '\n",
      "               'mod  in10 2) 0))) (not ( = ( mod  in11 2) 0))) (not ( = ( mod  '\n",
      "               'in12 2) 0))) (not ( = ( mod  in13 2) 0))) (not ( = ( mod  in14 '\n",
      "               '2) 0))) (not ( = ( mod  in15 2) 0))))',\n",
      " 'constants': '(declare-const in0 Int)\\n'\n",
      "              '(declare-const in2 Int)\\n'\n",
      "              '(declare-const in1 Int)\\n'\n",
      "              '(declare-const in4 Int)\\n'\n",
      "              '(declare-const in3 Int)\\n'\n",
      "              '(declare-const in6 Int)\\n'\n",
      "              '(declare-const in5 Int)\\n'\n",
      "              '(declare-const in8 Int)\\n'\n",
      "              '(declare-const in7 Int)\\n'\n",
      "              '(declare-const in11 Int)\\n'\n",
      "              '(declare-const in10 Int)\\n'\n",
      "              '(declare-const in9 Int)\\n'\n",
      "              '(declare-const in13 Int)\\n'\n",
      "              '(declare-const in12 Int)\\n'\n",
      "              '(declare-const in15 Int)\\n'\n",
      "              '(declare-const in14 Int)',\n",
      " 'response': 'Worst-case time complexity: Theta(n). Reason: the while loop '\n",
      "             'takes between ceil(n/2) and n iterations; the cost-simulating '\n",
      "             'loop runs 100·steps iterations. In the worst case (all relevant '\n",
      "             'entries odd), steps = n, so the total work is linear in n.\\n'\n",
      "             '\\n'\n",
      "             'Worst-case constraints for n = 16: ensure the fast 2-step branch '\n",
      "             'never triggers. It suffices to make arr[i] odd for i = 0..14 (i '\n",
      "             '= 15 doesn’t matter because i+1 < n is false).\\n'\n",
      "             '\\n'\n",
      "             'Answer:\\n'\n",
      "             '(set-logic QF_NIA)\\n'\n",
      "             '(declare-fun in0 () Int)\\n'\n",
      "             '(declare-fun in1 () Int)\\n'\n",
      "             '(declare-fun in2 () Int)\\n'\n",
      "             '(declare-fun in3 () Int)\\n'\n",
      "             '(declare-fun in4 () Int)\\n'\n",
      "             '(declare-fun in5 () Int)\\n'\n",
      "             '(declare-fun in6 () Int)\\n'\n",
      "             '(declare-fun in7 () Int)\\n'\n",
      "             '(declare-fun in8 () Int)\\n'\n",
      "             '(declare-fun in9 () Int)\\n'\n",
      "             '(declare-fun in10 () Int)\\n'\n",
      "             '(declare-fun in11 () Int)\\n'\n",
      "             '(declare-fun in12 () Int)\\n'\n",
      "             '(declare-fun in13 () Int)\\n'\n",
      "             '(declare-fun in14 () Int)\\n'\n",
      "             '(declare-fun in15 () Int)\\n'\n",
      "             '(assert (= (mod in0 2) 1))\\n'\n",
      "             '(assert (= (mod in1 2) 1))\\n'\n",
      "             '(assert (= (mod in2 2) 1))\\n'\n",
      "             '(assert (= (mod in3 2) 1))\\n'\n",
      "             '(assert (= (mod in4 2) 1))\\n'\n",
      "             '(assert (= (mod in5 2) 1))\\n'\n",
      "             '(assert (= (mod in6 2) 1))\\n'\n",
      "             '(assert (= (mod in7 2) 1))\\n'\n",
      "             '(assert (= (mod in8 2) 1))\\n'\n",
      "             '(assert (= (mod in9 2) 1))\\n'\n",
      "             '(assert (= (mod in10 2) 1))\\n'\n",
      "             '(assert (= (mod in11 2) 1))\\n'\n",
      "             '(assert (= (mod in12 2) 1))\\n'\n",
      "             '(assert (= (mod in13 2) 1))\\n'\n",
      "             '(assert (= (mod in14 2) 1))\\n'\n",
      "             '; in15 unconstrained\\n'\n",
      "             '(check-sat)\\n'\n",
      "             '(get-model)'}\n"
     ]
    }
   ],
   "source": [
    "pprint(java_programs[PROGRAM_NAME][\"16\"])"
   ]
  },
  {
   "cell_type": "code",
   "execution_count": 9,
   "id": "229216a9",
   "metadata": {},
   "outputs": [
    {
     "data": {
      "text/plain": [
       "{'result': False, 'reason': 'B does not imply A'}"
      ]
     },
     "execution_count": 9,
     "metadata": {},
     "output_type": "execute_result"
    }
   ],
   "source": [
    "utils.check_logical_equivalence_v2(\n",
    "    original_assertions=java_programs[PROGRAM_NAME][\"16\"][\"assertions\"],\n",
    "    generated_assertions=java_programs[PROGRAM_NAME][\"16\"][\"response\"].split(\"(declare-fun in15 () Int)\\n\")[1].split(\"(check-sat)\\n\")[0],\n",
    "    original_constants=java_programs[PROGRAM_NAME][\"16\"][\"constants\"],\n",
    "    generated_constants=java_programs[PROGRAM_NAME][\"16\"][\"response\"].split(\"Answer:\\n\")[1].split(\"(assert (= (mod in0 2) 1))\\n\")[0]\n",
    ")"
   ]
  },
  {
   "cell_type": "code",
   "execution_count": 10,
   "id": "fb41a6ab",
   "metadata": {},
   "outputs": [
    {
     "name": "stdout",
     "output_type": "stream",
     "text": [
      "{'assertions': '(assert (and (and (and (and (and (and (and (and (and (and (and '\n",
      "               '(and (and (and (and (and (and (and (and (and (and (and (and '\n",
      "               '(and (and (and (and (and (and (not ( = ( mod  in0 2) 0)) (not '\n",
      "               '( = ( mod  in1 2) 0))) (not ( = ( mod  in2 2) 0))) (not ( = ( '\n",
      "               'mod  in3 2) 0))) (not ( = ( mod  in4 2) 0))) (not ( = ( mod  '\n",
      "               'in5 2) 0))) (not ( = ( mod  in6 2) 0))) (not ( = ( mod  in7 2) '\n",
      "               '0))) (not ( = ( mod  in8 2) 0))) (not ( = ( mod  in9 2) 0))) '\n",
      "               '(not ( = ( mod  in10 2) 0))) (not ( = ( mod  in11 2) 0))) (not '\n",
      "               '( = ( mod  in12 2) 0))) (not ( = ( mod  in13 2) 0))) (not ( = '\n",
      "               '( mod  in14 2) 0))) (not ( = ( mod  in15 2) 0))) (not ( = ( '\n",
      "               'mod  in16 2) 0))) (not ( = ( mod  in17 2) 0))) (not ( = ( mod  '\n",
      "               'in18 2) 0))) (not ( = ( mod  in19 2) 0))) (not ( = ( mod  in20 '\n",
      "               '2) 0))) (not ( = ( mod  in21 2) 0))) (not ( = ( mod  in22 2) '\n",
      "               '0))) (not ( = ( mod  in23 2) 0))) (not ( = ( mod  in24 2) 0))) '\n",
      "               '(not ( = ( mod  in25 2) 0))) (not ( = ( mod  in26 2) 0))) (not '\n",
      "               '( = ( mod  in27 2) 0))) (not ( = ( mod  in28 2) 0))) (not ( = '\n",
      "               '( mod  in29 2) 0))))',\n",
      " 'constants': '(declare-const in20 Int)\\n'\n",
      "              '(declare-const in22 Int)\\n'\n",
      "              '(declare-const in21 Int)\\n'\n",
      "              '(declare-const in24 Int)\\n'\n",
      "              '(declare-const in23 Int)\\n'\n",
      "              '(declare-const in26 Int)\\n'\n",
      "              '(declare-const in25 Int)\\n'\n",
      "              '(declare-const in28 Int)\\n'\n",
      "              '(declare-const in27 Int)\\n'\n",
      "              '(declare-const in29 Int)\\n'\n",
      "              '(declare-const in0 Int)\\n'\n",
      "              '(declare-const in2 Int)\\n'\n",
      "              '(declare-const in1 Int)\\n'\n",
      "              '(declare-const in4 Int)\\n'\n",
      "              '(declare-const in3 Int)\\n'\n",
      "              '(declare-const in6 Int)\\n'\n",
      "              '(declare-const in5 Int)\\n'\n",
      "              '(declare-const in8 Int)\\n'\n",
      "              '(declare-const in7 Int)\\n'\n",
      "              '(declare-const in11 Int)\\n'\n",
      "              '(declare-const in10 Int)\\n'\n",
      "              '(declare-const in9 Int)\\n'\n",
      "              '(declare-const in13 Int)\\n'\n",
      "              '(declare-const in12 Int)\\n'\n",
      "              '(declare-const in15 Int)\\n'\n",
      "              '(declare-const in14 Int)\\n'\n",
      "              '(declare-const in17 Int)\\n'\n",
      "              '(declare-const in16 Int)\\n'\n",
      "              '(declare-const in19 Int)\\n'\n",
      "              '(declare-const in18 Int)',\n",
      " 'response': 'Worst-case time complexity: Θ(n), where n is the array length.\\n'\n",
      "             '- The while loop performs one iteration per “step.” The maximum '\n",
      "             'number of steps occurs when the if-condition is always false for '\n",
      "             'i = 0..n-2, i.e., when all those elements are odd, yielding '\n",
      "             'steps = n.\\n'\n",
      "             '- The final loop performs steps*100 iterations, which is still '\n",
      "             'Θ(n). Total time is linear.\\n'\n",
      "             '\\n'\n",
      "             'SMT2 constraint for n = 30 (maximizing steps by forcing '\n",
      "             'in0..in28 to be odd; in29 unconstrained):\\n'\n",
      "             '\\n'\n",
      "             'Answer:\\n'\n",
      "             '(set-logic QF_NIA)\\n'\n",
      "             '(declare-fun in0 () Int)\\n'\n",
      "             '(declare-fun in1 () Int)\\n'\n",
      "             '(declare-fun in2 () Int)\\n'\n",
      "             '(declare-fun in3 () Int)\\n'\n",
      "             '(declare-fun in4 () Int)\\n'\n",
      "             '(declare-fun in5 () Int)\\n'\n",
      "             '(declare-fun in6 () Int)\\n'\n",
      "             '(declare-fun in7 () Int)\\n'\n",
      "             '(declare-fun in8 () Int)\\n'\n",
      "             '(declare-fun in9 () Int)\\n'\n",
      "             '(declare-fun in10 () Int)\\n'\n",
      "             '(declare-fun in11 () Int)\\n'\n",
      "             '(declare-fun in12 () Int)\\n'\n",
      "             '(declare-fun in13 () Int)\\n'\n",
      "             '(declare-fun in14 () Int)\\n'\n",
      "             '(declare-fun in15 () Int)\\n'\n",
      "             '(declare-fun in16 () Int)\\n'\n",
      "             '(declare-fun in17 () Int)\\n'\n",
      "             '(declare-fun in18 () Int)\\n'\n",
      "             '(declare-fun in19 () Int)\\n'\n",
      "             '(declare-fun in20 () Int)\\n'\n",
      "             '(declare-fun in21 () Int)\\n'\n",
      "             '(declare-fun in22 () Int)\\n'\n",
      "             '(declare-fun in23 () Int)\\n'\n",
      "             '(declare-fun in24 () Int)\\n'\n",
      "             '(declare-fun in25 () Int)\\n'\n",
      "             '(declare-fun in26 () Int)\\n'\n",
      "             '(declare-fun in27 () Int)\\n'\n",
      "             '(declare-fun in28 () Int)\\n'\n",
      "             '(declare-fun in29 () Int)\\n'\n",
      "             '(assert (= (mod in0 2) 1))\\n'\n",
      "             '(assert (= (mod in1 2) 1))\\n'\n",
      "             '(assert (= (mod in2 2) 1))\\n'\n",
      "             '(assert (= (mod in3 2) 1))\\n'\n",
      "             '(assert (= (mod in4 2) 1))\\n'\n",
      "             '(assert (= (mod in5 2) 1))\\n'\n",
      "             '(assert (= (mod in6 2) 1))\\n'\n",
      "             '(assert (= (mod in7 2) 1))\\n'\n",
      "             '(assert (= (mod in8 2) 1))\\n'\n",
      "             '(assert (= (mod in9 2) 1))\\n'\n",
      "             '(assert (= (mod in10 2) 1))\\n'\n",
      "             '(assert (= (mod in11 2) 1))\\n'\n",
      "             '(assert (= (mod in12 2) 1))\\n'\n",
      "             '(assert (= (mod in13 2) 1))\\n'\n",
      "             '(assert (= (mod in14 2) 1))\\n'\n",
      "             '(assert (= (mod in15 2) 1))\\n'\n",
      "             '(assert (= (mod in16 2) 1))\\n'\n",
      "             '(assert (= (mod in17 2) 1))\\n'\n",
      "             '(assert (= (mod in18 2) 1))\\n'\n",
      "             '(assert (= (mod in19 2) 1))\\n'\n",
      "             '(assert (= (mod in20 2) 1))\\n'\n",
      "             '(assert (= (mod in21 2) 1))\\n'\n",
      "             '(assert (= (mod in22 2) 1))\\n'\n",
      "             '(assert (= (mod in23 2) 1))\\n'\n",
      "             '(assert (= (mod in24 2) 1))\\n'\n",
      "             '(assert (= (mod in25 2) 1))\\n'\n",
      "             '(assert (= (mod in26 2) 1))\\n'\n",
      "             '(assert (= (mod in27 2) 1))\\n'\n",
      "             '(assert (= (mod in28 2) 1))'}\n"
     ]
    }
   ],
   "source": [
    "pprint(java_programs[PROGRAM_NAME][\"30\"])"
   ]
  },
  {
   "cell_type": "code",
   "execution_count": 11,
   "id": "c1a5ed62",
   "metadata": {},
   "outputs": [
    {
     "data": {
      "text/plain": [
       "{'result': False, 'reason': 'B does not imply A'}"
      ]
     },
     "execution_count": 11,
     "metadata": {},
     "output_type": "execute_result"
    }
   ],
   "source": [
    "utils.check_logical_equivalence(\n",
    "    original_assertions=java_programs[PROGRAM_NAME][\"30\"][\"assertions\"],\n",
    "    generated_assertions=java_programs[PROGRAM_NAME][\"30\"][\"response\"].split(\"(declare-fun in29 () Int)\\n\")[1].split(\"(check-sat)\\n\")[0],\n",
    "    constants=java_programs[PROGRAM_NAME][\"30\"][\"constants\"]\n",
    ")"
   ]
  }
 ],
 "metadata": {
  "kernelspec": {
   "display_name": ".venv",
   "language": "python",
   "name": "python3"
  },
  "language_info": {
   "codemirror_mode": {
    "name": "ipython",
    "version": 3
   },
   "file_extension": ".py",
   "mimetype": "text/x-python",
   "name": "python",
   "nbconvert_exporter": "python",
   "pygments_lexer": "ipython3",
   "version": "3.11.4"
  }
 },
 "nbformat": 4,
 "nbformat_minor": 5
}
