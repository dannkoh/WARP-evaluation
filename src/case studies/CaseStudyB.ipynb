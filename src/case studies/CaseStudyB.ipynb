{
 "cells": [
  {
   "cell_type": "code",
   "execution_count": 12,
   "id": "8f6ec05e",
   "metadata": {},
   "outputs": [],
   "source": [
    "import datasets\n",
    "from typing import Optional, Dict, Any\n",
    "from pprint import pprint\n",
    "import re"
   ]
  },
  {
   "cell_type": "code",
   "execution_count": 13,
   "id": "2353f82f",
   "metadata": {},
   "outputs": [],
   "source": [
    "def check_logical_equivalence(\n",
    "    original_assertions: str,\n",
    "    generated_assertions: str,\n",
    "    constants: Optional[str] = None\n",
    ") -> Dict[str, Any]:\n",
    "    \"\"\"\n",
    "    In-process Z3 two-step equivalence check:\n",
    "      1) A ⇒ B\n",
    "      2) B ⇒ A.\n",
    "    \"\"\"\n",
    "    from z3 import Solver, parse_smt2_string, Not, And, Z3Exception, sat\n",
    "\n",
    "    orig = original_assertions.strip()\n",
    "    gen = generated_assertions.strip()\n",
    "    if constants:\n",
    "        decls = constants.strip()\n",
    "        orig = decls + f\"\\n{orig}\"\n",
    "        gen = decls + f\"\\n{gen}\"\n",
    "\n",
    "    # trivial cases\n",
    "    if not orig and not gen:\n",
    "        return {\"result\": True}\n",
    "    if not orig or not gen:\n",
    "        return {\"result\": False, \"reason\": \"Empty side\"}\n",
    "\n",
    "    try:\n",
    "        A = parse_smt2_string(orig)\n",
    "        B = parse_smt2_string(gen)\n",
    "    except Z3Exception as e:\n",
    "        return {\"result\": False, \"reason\": f\"Parse error: {e}\"}\n",
    "\n",
    "    s = Solver()\n",
    "    # A ⇒ B\n",
    "    s.push()\n",
    "    s.add(*A)\n",
    "    s.add(Not(And(*B)))\n",
    "    if s.check() == sat:\n",
    "        return {\"result\": False, \"reason\": \"A does not imply B\"}\n",
    "    s.pop()\n",
    "    # B ⇒ A\n",
    "    s.push()\n",
    "    s.add(*B)\n",
    "    s.add(Not(And(*A)))\n",
    "    if s.check() == sat:\n",
    "        return {\"result\": False, \"reason\": \"B does not imply A\"}\n",
    "    s.pop()\n",
    "\n",
    "    return {\"result\": True}\n"
   ]
  },
  {
   "cell_type": "code",
   "execution_count": null,
   "id": "5410db95",
   "metadata": {},
   "outputs": [],
   "source": [
    "# dataset = datasets.load_dataset(\"[REDACTED FOR ANONYMITY]\", split=\"test\")\n",
    "dataset = dataset.to_pandas()\n",
    "instance = dataset.iloc[621]"
   ]
  },
  {
   "cell_type": "code",
   "execution_count": null,
   "id": "9db4688a",
   "metadata": {},
   "outputs": [],
   "source": [
    "# path WARP-evaluation/src/results_warp/warp-1.0/2025-05-05_20-25-50/stats/individual_stats.json\n",
    "WARP_RESPONSE = \"\"\"\n",
    "To generate the constraint for N=22, we can extend the logic applied in the previous examples. We notice a pattern where the input values are permuted and checked against a set of constraints based on the current input and the previous ones. This pattern can be applied to larger inputs as well. Here is the derived constraint for N=22.\\n\\n```\\nAnswer: (assert (and  (not ( = in0 65))  ( =  in0 66)  (not ( = in1 69))  ( =  in1 70)  (not ( = in2 73))  (not ( = in2 74))  (not ( = in3 65))  ( =  in3 66)  (not ( = in4 69))  ( =  in4 70)  (not ( = in5 73))  (not ( = in5 74))  (not ( = in6 65))  ( =  in6 66)  (not ( = in7 69))  ( =  in7 70)  (not ( = in8 73))  (not ( = in8 74))  (not ( = in9 65))  ( =  in9 66)  (not ( = in10 69))  ( =  in10 70)  (not ( = in11 73))  (not ( = in11 74))  (not ( = in12 65))  ( =  in12 66)  (not ( = in13 69))  ( =  in13 70)  (not ( = in14 73))  (not ( = in14 74))  (not ( = in15 65))  ( =  in15 66)  (not ( = in16 69))  ( =  in16 70)  (not ( = in17 73))  (not ( = in17 74))  (not ( = in18 65))  ( =  in18 66)  (not ( = in19 69))  ( =  in19 70)  (not ( = in20 73))  (not ( = in20 74))  (not ( = in21 65))  ( =  in21 66)))\\n```\n",
    "\"\"\""
   ]
  },
  {
   "cell_type": "code",
   "execution_count": 16,
   "id": "ea3d1f4b",
   "metadata": {},
   "outputs": [
    {
     "name": "stdout",
     "output_type": "stream",
     "text": [
      "{'answer': '(assert (and (and (and (and (and (and (and (and (and (and (and '\n",
      "           '(and (and (and (and (and (and (and (and (and (and (and (and (and '\n",
      "           '(and (and (and (and (and (and (and (and (and (and (and (and (and '\n",
      "           '(and (and (and (and (and (and (not ( = in0 65))  ( =  in0 66)) '\n",
      "           '(not ( = in1 69)))  ( =  in1 70)) (not ( = in2 73))) (not ( = in2 '\n",
      "           '74))) (not ( = in3 65)))  ( =  in3 66)) (not ( = in4 69)))  ( =  '\n",
      "           'in4 70)) (not ( = in5 73))) (not ( = in5 74))) (not ( = in6 65)))  '\n",
      "           '( =  in6 66)) (not ( = in7 69)))  ( =  in7 70)) (not ( = in8 73))) '\n",
      "           '(not ( = in8 74))) (not ( = in9 65)))  ( =  in9 66)) (not ( = in10 '\n",
      "           '69)))  ( =  in10 70)) (not ( = in11 73))) (not ( = in11 74))) (not '\n",
      "           '( = in12 65)))  ( =  in12 66)) (not ( = in13 69)))  ( =  in13 70)) '\n",
      "           '(not ( = in14 73))) (not ( = in14 74))) (not ( = in15 65)))  ( =  '\n",
      "           'in15 66)) (not ( = in16 69)))  ( =  in16 70)) (not ( = in17 73))) '\n",
      "           '(not ( = in17 74))) (not ( = in18 65)))  ( =  in18 66)) (not ( = '\n",
      "           'in19 69)))  ( =  in19 70)) (not ( = in20 73))) (not ( = in20 74))) '\n",
      "           '(not ( = in21 65)))  ( =  in21 66)))',\n",
      " 'constants': '(declare-const in0 Int)\\n'\n",
      "              '(declare-const in2 Int)\\n'\n",
      "              '(declare-const in1 Int)\\n'\n",
      "              '(declare-const in4 Int)\\n'\n",
      "              '(declare-const in3 Int)\\n'\n",
      "              '(declare-const in6 Int)\\n'\n",
      "              '(declare-const in5 Int)\\n'\n",
      "              '(declare-const in20 Int)\\n'\n",
      "              '(declare-const in8 Int)\\n'\n",
      "              '(declare-const in7 Int)\\n'\n",
      "              '(declare-const in11 Int)\\n'\n",
      "              '(declare-const in21 Int)\\n'\n",
      "              '(declare-const in10 Int)\\n'\n",
      "              '(declare-const in9 Int)\\n'\n",
      "              '(declare-const in13 Int)\\n'\n",
      "              '(declare-const in12 Int)\\n'\n",
      "              '(declare-const in15 Int)\\n'\n",
      "              '(declare-const in14 Int)\\n'\n",
      "              '(declare-const in17 Int)\\n'\n",
      "              '(declare-const in16 Int)\\n'\n",
      "              '(declare-const in19 Int)\\n'\n",
      "              '(declare-const in18 Int)',\n",
      " 'question': 'Given the following examples of constraints for increasing input '\n",
      "             'sizes:\\n'\n",
      "             'N=3: (assert (and (and (and (and (and (not ( = in0 65))  ( =  '\n",
      "             'in0 66)) (not ( = in1 69)))  ( =  in1 70)) (not ( = in2 73))) '\n",
      "             '(not ( = in2 74))))\\n'\n",
      "             'N=4: (assert (and (and (and (and (and (and (and (not ( = in0 '\n",
      "             '65))  ( =  in0 66)) (not ( = in1 69)))  ( =  in1 70)) (not ( = '\n",
      "             'in2 73))) (not ( = in2 74))) (not ( = in3 65)))  ( =  in3 66)))\\n'\n",
      "             'N=5: (assert (and (and (and (and (and (and (and (and (and (not ( '\n",
      "             '= in0 65))  ( =  in0 66)) (not ( = in1 69)))  ( =  in1 70)) (not '\n",
      "             '( = in2 73))) (not ( = in2 74))) (not ( = in3 65)))  ( =  in3 '\n",
      "             '66)) (not ( = in4 69)))  ( =  in4 70)))\\n'\n",
      "             'N=8: (assert (and (and (and (and (and (and (and (and (and (and '\n",
      "             '(and (and (and (and (and (not ( = in0 65))  ( =  in0 66)) (not ( '\n",
      "             '= in1 69)))  ( =  in1 70)) (not ( = in2 73))) (not ( = in2 74))) '\n",
      "             '(not ( = in3 65)))  ( =  in3 66)) (not ( = in4 69)))  ( =  in4 '\n",
      "             '70)) (not ( = in5 73))) (not ( = in5 74))) (not ( = in6 65)))  ( '\n",
      "             '=  in6 66)) (not ( = in7 69)))  ( =  in7 70)))\\n'\n",
      "             'N=11: (assert (and (and (and (and (and (and (and (and (and (and '\n",
      "             '(and (and (and (and (and (and (and (and (and (and (and (not ( = '\n",
      "             'in0 65))  ( =  in0 66)) (not ( = in1 69)))  ( =  in1 70)) (not ( '\n",
      "             '= in2 73))) (not ( = in2 74))) (not ( = in3 65)))  ( =  in3 66)) '\n",
      "             '(not ( = in4 69)))  ( =  in4 70)) (not ( = in5 73))) (not ( = '\n",
      "             'in5 74))) (not ( = in6 65)))  ( =  in6 66)) (not ( = in7 69)))  '\n",
      "             '( =  in7 70)) (not ( = in8 73))) (not ( = in8 74))) (not ( = in9 '\n",
      "             '65)))  ( =  in9 66)) (not ( = in10 69)))  ( =  in10 70)))\\n'\n",
      "             'N=12: (assert (and (and (and (and (and (and (and (and (and (and '\n",
      "             '(and (and (and (and (and (and (and (and (and (and (and (and (and '\n",
      "             '(not ( = in0 65))  ( =  in0 66)) (not ( = in1 69)))  ( =  in1 '\n",
      "             '70)) (not ( = in2 73))) (not ( = in2 74))) (not ( = in3 65)))  ( '\n",
      "             '=  in3 66)) (not ( = in4 69)))  ( =  in4 70)) (not ( = in5 73))) '\n",
      "             '(not ( = in5 74))) (not ( = in6 65)))  ( =  in6 66)) (not ( = '\n",
      "             'in7 69)))  ( =  in7 70)) (not ( = in8 73))) (not ( = in8 74))) '\n",
      "             '(not ( = in9 65)))  ( =  in9 66)) (not ( = in10 69)))  ( =  in10 '\n",
      "             '70)) (not ( = in11 73))) (not ( = in11 74))))\\n'\n",
      "             'N=16: (assert (and (and (and (and (and (and (and (and (and (and '\n",
      "             '(and (and (and (and (and (and (and (and (and (and (and (and (and '\n",
      "             '(and (and (and (and (and (and (and (and (not ( = in0 65))  ( =  '\n",
      "             'in0 66)) (not ( = in1 69)))  ( =  in1 70)) (not ( = in2 73))) '\n",
      "             '(not ( = in2 74))) (not ( = in3 65)))  ( =  in3 66)) (not ( = '\n",
      "             'in4 69)))  ( =  in4 70)) (not ( = in5 73))) (not ( = in5 74))) '\n",
      "             '(not ( = in6 65)))  ( =  in6 66)) (not ( = in7 69)))  ( =  in7 '\n",
      "             '70)) (not ( = in8 73))) (not ( = in8 74))) (not ( = in9 65)))  ( '\n",
      "             '=  in9 66)) (not ( = in10 69)))  ( =  in10 70)) (not ( = in11 '\n",
      "             '73))) (not ( = in11 74))) (not ( = in12 65)))  ( =  in12 66)) '\n",
      "             '(not ( = in13 69)))  ( =  in13 70)) (not ( = in14 73))) (not ( = '\n",
      "             'in14 74))) (not ( = in15 65)))  ( =  in15 66)))\\n'\n",
      "             'What is the constraint for N=22?',\n",
      " 'tier': 'medium'}\n"
     ]
    }
   ],
   "source": [
    "pprint(instance.to_dict())"
   ]
  },
  {
   "cell_type": "code",
   "execution_count": 17,
   "id": "39be7cc7",
   "metadata": {},
   "outputs": [
    {
     "data": {
      "text/plain": [
       "{'result': True}"
      ]
     },
     "execution_count": 17,
     "metadata": {},
     "output_type": "execute_result"
    }
   ],
   "source": [
    "manual_extraction = WARP_RESPONSE.split(\"```\\nAnswer: \")[1].split(\"\\n```\")[0]\n",
    "\n",
    "\n",
    "check_logical_equivalence(\n",
    "    original_assertions=instance[\"answer\"],\n",
    "    generated_assertions=manual_extraction,\n",
    "    constants=instance[\"constants\"]\n",
    ")"
   ]
  }
 ],
 "metadata": {
  "kernelspec": {
   "display_name": ".venv",
   "language": "python",
   "name": "python3"
  },
  "language_info": {
   "codemirror_mode": {
    "name": "ipython",
    "version": 3
   },
   "file_extension": ".py",
   "mimetype": "text/x-python",
   "name": "python",
   "nbconvert_exporter": "python",
   "pygments_lexer": "ipython3",
   "version": "3.12.3"
  }
 },
 "nbformat": 4,
 "nbformat_minor": 5
}
